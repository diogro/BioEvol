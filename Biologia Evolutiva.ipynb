{
 "cells": [
  {
   "cell_type": "markdown",
   "metadata": {},
   "source": [
    "# Introdução"
   ]
  },
  {
   "cell_type": "markdown",
   "metadata": {},
   "source": [
    "Esse notebook traz as analises pedidas na disciplina Biologia Evolutiva - Bio507\n",
    "\n",
    "Vamos aproveitar para ilustrar o uso de python e R dentro do mesmo ambiente de trabalho."
   ]
  },
  {
   "cell_type": "markdown",
   "metadata": {},
   "source": [
    "## Leitura de dados"
   ]
  },
  {
   "cell_type": "markdown",
   "metadata": {},
   "source": [
    "Primeiro vamos ler os dados usando o pandas.\n",
    "A função read_csv cria um data.frame com os dados.\n",
    "\n",
    "Podemos usar a função describe para ter um resumo global."
   ]
  },
  {
   "cell_type": "code",
   "execution_count": 1,
   "metadata": {
    "collapsed": false,
    "scrolled": true
   },
   "outputs": [
    {
     "ename": "ImportError",
     "evalue": "No module named 'pandas'",
     "output_type": "error",
     "traceback": [
      "\u001b[1;31m---------------------------------------------------------------------------\u001b[0m",
      "\u001b[1;31mImportError\u001b[0m                               Traceback (most recent call last)",
      "\u001b[1;32m<ipython-input-1-9d597a476ae1>\u001b[0m in \u001b[0;36m<module>\u001b[1;34m()\u001b[0m\n\u001b[1;32m----> 1\u001b[1;33m \u001b[1;32mimport\u001b[0m \u001b[0mpandas\u001b[0m \u001b[1;32mas\u001b[0m \u001b[0mpd\u001b[0m\u001b[1;33m\u001b[0m\u001b[0m\n\u001b[0m\u001b[0;32m      2\u001b[0m \u001b[1;32mimport\u001b[0m \u001b[0mnumpy\u001b[0m \u001b[1;32mas\u001b[0m \u001b[0mnp\u001b[0m\u001b[1;33m\u001b[0m\u001b[0m\n\u001b[0;32m      3\u001b[0m \u001b[1;32mimport\u001b[0m \u001b[0mdendropy\u001b[0m  \u001b[1;32mas\u001b[0m \u001b[0mdp\u001b[0m\u001b[1;33m\u001b[0m\u001b[0m\n\u001b[0;32m      4\u001b[0m \u001b[1;33m\u001b[0m\u001b[0m\n\u001b[0;32m      5\u001b[0m \u001b[0mdados_brutos\u001b[0m \u001b[1;33m=\u001b[0m \u001b[0mpd\u001b[0m\u001b[1;33m.\u001b[0m\u001b[0mread_csv\u001b[0m\u001b[1;33m(\u001b[0m\u001b[1;34m\"./dados.csv\"\u001b[0m\u001b[1;33m)\u001b[0m\u001b[1;33m\u001b[0m\u001b[0m\n",
      "\u001b[1;31mImportError\u001b[0m: No module named 'pandas'"
     ]
    }
   ],
   "source": [
    "import pandas as pd\n",
    "import numpy as np\n",
    "import dendropy  as dp\n",
    "\n",
    "dados_brutos = pd.read_csv(\"./dados.csv\")\n",
    "num_traits = 4\n",
    "traits = dados_brutos.columns[:num_traits]\n",
    "dados_brutos"
   ]
  },
  {
   "cell_type": "code",
   "execution_count": null,
   "metadata": {
    "collapsed": true
   },
   "outputs": [],
   "source": []
  },
  {
   "cell_type": "code",
   "execution_count": null,
   "metadata": {
    "collapsed": false
   },
   "outputs": [],
   "source": [
    "dados_brutos.head()"
   ]
  },
  {
   "cell_type": "code",
   "execution_count": null,
   "metadata": {
    "collapsed": false
   },
   "outputs": [],
   "source": [
    "dados_brutos.describe()"
   ]
  },
  {
   "cell_type": "markdown",
   "metadata": {},
   "source": [
    "Podemos também usar a função groupby para aplicar funções em sub conjuntos dos dados, agrupando pela coluna ESPECIE"
   ]
  },
  {
   "cell_type": "code",
   "execution_count": null,
   "metadata": {
    "collapsed": false,
    "scrolled": true
   },
   "outputs": [],
   "source": [
    "dados_brutos.groupby('ESPECIE').describe()"
   ]
  },
  {
   "cell_type": "markdown",
   "metadata": {},
   "source": [
    "Vamos calcular as médias, desvios padrão e coeficiantes de variação por traço por espécie."
   ]
  },
  {
   "cell_type": "code",
   "execution_count": null,
   "metadata": {
    "collapsed": false
   },
   "outputs": [],
   "source": [
    "medias = dados_brutos.groupby('ESPECIE').mean()\n",
    "medias"
   ]
  },
  {
   "cell_type": "code",
   "execution_count": null,
   "metadata": {
    "collapsed": false
   },
   "outputs": [],
   "source": [
    "std = dados_brutos.groupby('ESPECIE').std()\n",
    "std"
   ]
  },
  {
   "cell_type": "code",
   "execution_count": null,
   "metadata": {
    "collapsed": false
   },
   "outputs": [],
   "source": [
    "cv = std/medias\n",
    "cv"
   ]
  },
  {
   "cell_type": "markdown",
   "metadata": {},
   "source": [
    "###Usando o R\n",
    "\n",
    "Também é possivel usar diretamente o R dentro do notebook.\n",
    "\n",
    "Vamos usar o pacote ggplot2 para fazer um gráfico sumário das nossas variáveis."
   ]
  },
  {
   "cell_type": "code",
   "execution_count": null,
   "metadata": {
    "collapsed": false
   },
   "outputs": [],
   "source": [
    "%load_ext rmagic "
   ]
  },
  {
   "cell_type": "code",
   "execution_count": null,
   "metadata": {
    "collapsed": false
   },
   "outputs": [],
   "source": [
    "import pandas.rpy.common as com\n",
    "dados_brutos_R = com.convert_to_r_dataframe(dados_brutos)\n",
    "%Rpush dados_brutos_R"
   ]
  },
  {
   "cell_type": "code",
   "execution_count": null,
   "metadata": {
    "collapsed": false
   },
   "outputs": [],
   "source": [
    "%%R\n",
    "library(ggplot2); library(reshape2)\n",
    "dados_brutos_R[1:4] = apply(dados_brutos_R[1:4], 2, as.numeric)\n",
    "dados_brutos_R[,5] = as.character(dados_brutos_R[,5])\n",
    "dados.melted = melt(dados_brutos_R, id.vars = 'ESPECIE')\n",
    "box_plots = ggplot(dados.melted, \n",
    "                   aes(ESPECIE, \n",
    "                       value, \n",
    "                       group = interaction(ESPECIE, variable), \n",
    "                       color= variable)) + geom_boxplot()\n",
    "print(box_plots)"
   ]
  },
  {
   "cell_type": "markdown",
   "metadata": {},
   "source": [
    "##Calculando matrizes de covariância\n",
    "\n",
    "Vamos calcular as matrizes de covariância e correlação por espécie, além das médias, e agrupá-las num dicionário."
   ]
  },
  {
   "cell_type": "code",
   "execution_count": null,
   "metadata": {
    "collapsed": false
   },
   "outputs": [],
   "source": [
    "cov_matrices = dados_brutos.groupby('ESPECIE').apply(lambda x: x.cov())\n",
    "cor_matrices = dados_brutos.groupby('ESPECIE').apply(lambda x: x.corr())\n",
    "especies_labels = list(pd.unique(dados_brutos['ESPECIE']))"
   ]
  },
  {
   "cell_type": "code",
   "execution_count": null,
   "metadata": {
    "collapsed": false
   },
   "outputs": [],
   "source": [
    "cov_matrices"
   ]
  },
  {
   "cell_type": "code",
   "execution_count": null,
   "metadata": {
    "collapsed": false
   },
   "outputs": [],
   "source": [
    "cor_matrices"
   ]
  },
  {
   "cell_type": "markdown",
   "metadata": {},
   "source": [
    "Podemos também acessar as matrizes pelo nome da espécie:"
   ]
  },
  {
   "cell_type": "code",
   "execution_count": null,
   "metadata": {
    "collapsed": false
   },
   "outputs": [],
   "source": [
    "cor_matrices.T['C']"
   ]
  },
  {
   "cell_type": "markdown",
   "metadata": {},
   "source": [
    "Ou fazer um plot de todas elas"
   ]
  },
  {
   "cell_type": "code",
   "execution_count": null,
   "metadata": {
    "collapsed": false
   },
   "outputs": [],
   "source": [
    "%R library(plotrix)\n",
    "for sp in especies_labels:\n",
    "    mat = np.array(cor_matrices.T[sp])\n",
    "    print sp\n",
    "    %Rpush mat\n",
    "    %R color2D.matplot(mat)"
   ]
  },
  {
   "cell_type": "markdown",
   "metadata": {},
   "source": [
    "##Analise de variância\n",
    "\n",
    "Calculando as matrizes dentro de grupos, entre grupos e total"
   ]
  },
  {
   "cell_type": "code",
   "execution_count": null,
   "metadata": {
    "collapsed": false
   },
   "outputs": [],
   "source": [
    "%%R \n",
    "\n",
    "library(Morphometrics)\n",
    "\n",
    "n.total = dim(dados_brutos_R)[1]\n",
    "fivesp_lm = lm(as.matrix(dados_brutos_R[,1:4])~dados_brutos_R[,5])\n",
    "fivesp_lm_total = lm(as.matrix(dados_brutos_R[,1:4])~1)\n",
    "\n",
    "SSCP.W = t(fivesp_lm$residuals)%*%fivesp_lm$residuals\n",
    "SSCP.T = t(fivesp_lm_total$residuals)%*%fivesp_lm_total$residuals\n",
    "SSCP.B = SSCP.T - SSCP.W\n",
    "b_matrix = SSCP.B/n.total\n",
    "w_matrix = CalculateMatrix(fivesp_lm)\n",
    "t_matrix = CalculateMatrix(fivesp_lm_total)"
   ]
  },
  {
   "cell_type": "code",
   "execution_count": null,
   "metadata": {
    "collapsed": false
   },
   "outputs": [],
   "source": [
    "%Rpull b_matrix w_matrix t_matrix"
   ]
  },
  {
   "cell_type": "markdown",
   "metadata": {},
   "source": [
    "##Morphometrics\n",
    "\n",
    "Passando as matrizes pro R para uso do pacote Morphometrics"
   ]
  },
  {
   "cell_type": "code",
   "execution_count": null,
   "metadata": {
    "collapsed": false
   },
   "outputs": [],
   "source": [
    "cov_matrices_R = com.convert_to_r_dataframe(cov_matrices)\n",
    "cor_matrices_R = com.convert_to_r_dataframe(cor_matrices)\n",
    "%Rpush cov_matrices_R cor_matrices_R especies_labels"
   ]
  },
  {
   "cell_type": "code",
   "execution_count": null,
   "metadata": {
    "collapsed": false
   },
   "outputs": [],
   "source": [
    "%%R\n",
    "library(Morphometrics)\n",
    "\n",
    "especies <- unlist(especies_labels)\n",
    "cov_matrices_R['ESPECIE'] <- cor_matrices_R['ESPECIE'] <- rep(especies, each = 4)\n",
    "cov_matrices <- dlply(cov_matrices_R, .variables='ESPECIE', function(x) as.matrix(x[1:4]))\n",
    "cor_matrices <- dlply(cor_matrices_R, .variables='ESPECIE', function(x) as.matrix(x[1:4]))\n",
    "print(cov_matrices)"
   ]
  },
  {
   "cell_type": "code",
   "execution_count": null,
   "metadata": {
    "collapsed": false
   },
   "outputs": [],
   "source": [
    "%%R\n",
    "reps <- laply(cov_matrices, MonteCarloRep, \"random\", 100)\n",
    "print(reps)"
   ]
  },
  {
   "cell_type": "code",
   "execution_count": null,
   "metadata": {
    "collapsed": false
   },
   "outputs": [],
   "source": [
    "%%R \n",
    "RS <- RandomSkewers(cov_matrices, repeat.vector = reps)\n",
    "print(RS)"
   ]
  },
  {
   "cell_type": "markdown",
   "metadata": {},
   "source": [
    "##Filogenia\n",
    "\n",
    "Vamos incluir uma filogenia e calcular estados ancestrais"
   ]
  },
  {
   "cell_type": "code",
   "execution_count": null,
   "metadata": {
    "collapsed": false
   },
   "outputs": [],
   "source": [
    "tree = dp.Tree.get_from_string(\"4(E, 3(2(C, B),1(A,D)))\", \"newick\")\n",
    "tree.print_plot(display_width = 50, show_internal_node_labels = True, leaf_spacing_factor = 4)"
   ]
  },
  {
   "cell_type": "code",
   "execution_count": null,
   "metadata": {
    "collapsed": true
   },
   "outputs": [],
   "source": []
  },
  {
   "cell_type": "markdown",
   "metadata": {},
   "source": [
    "Esse código usa as matrizes e médias calculadas anteriormente, junto com os tamanhos amostrais, para calcular valores ponderados para todos os nós da filogenia. \n",
    "\n",
    "A conta realizada para médias e matrizes é uma simples média ponderada."
   ]
  },
  {
   "cell_type": "code",
   "execution_count": null,
   "metadata": {
    "collapsed": false
   },
   "outputs": [],
   "source": [
    "get_node_name = lambda n: str(n.label or n.taxon or None)\n",
    "nodes = [get_node_name(n) for n in tree.nodes()]\n",
    "\n",
    "node_matrices = {}\n",
    "node_sample_size = {}\n",
    "for sp in especies_labels:\n",
    "    new_matrix = np.array(cov_matrices.T[sp])\n",
    "    node_matrices[sp] = new_matrix\n",
    "    node_sample_size[sp] = dados_brutos[dados_brutos['ESPECIE'] == sp].shape[0]\n",
    "\n",
    "# Tirando quem nao esta na filogenia e trocando os keys\n",
    "\n",
    "node_means = {}\n",
    "\n",
    "for sp in especies_labels:\n",
    "    if tree.find_node_with_taxon_label(sp):\n",
    "        new_key = get_node_name(tree.find_node_with_taxon_label(sp))\n",
    "        node_means[new_key] = medias.T[sp]\n",
    "        node_sample_size[new_key] = node_sample_size.pop(sp)\n",
    "        node_matrices[new_key] = node_matrices.pop(sp)\n",
    "    else:\n",
    "        node_matrices.pop(sp)\n",
    "        node_sample_size.pop(sp)\n",
    "\n",
    "# Função que recebe uma lista de filhos e calcula a matriz, média e tamanho amostral pro ancestral\n",
    "\n",
    "def ancestral_mean(child_labels):\n",
    "    new_matrix = np.zeros((num_traits, num_traits))\n",
    "    sample = 0\n",
    "    new_mean = np.zeros(num_traits)\n",
    "    for child in child_labels:\n",
    "        node = get_node_name(child)\n",
    "        new_matrix = new_matrix +\\\n",
    "            node_sample_size[node] * node_matrices[node]\n",
    "        sample = sample + node_sample_size[node]\n",
    "        new_mean = new_mean + node_sample_size[node] * node_means[node]\n",
    "    new_matrix = new_matrix/sample\n",
    "    new_mean = new_mean/sample\n",
    "    return new_matrix, sample, new_mean\n",
    "\n",
    "# Calculando as matrizes e tamanhos amostrais para todos os nós\n",
    "\n",
    "for n in tree.postorder_node_iter():\n",
    "    if get_node_name(n) not in node_matrices:\n",
    "        node_matrices[get_node_name(n)], node_sample_size[get_node_name(n)], node_means[get_node_name(n)] = ancestral_mean(n.child_nodes())"
   ]
  },
  {
   "cell_type": "markdown",
   "metadata": {},
   "source": [
    "Isso resulta num dicionário, chamado node_matrices, com todas as matrizes para todos os nós."
   ]
  },
  {
   "cell_type": "code",
   "execution_count": null,
   "metadata": {
    "collapsed": false
   },
   "outputs": [],
   "source": [
    "node_matrices"
   ]
  },
  {
   "cell_type": "markdown",
   "metadata": {},
   "source": [
    "Um dicionário de tamanhos amostrais"
   ]
  },
  {
   "cell_type": "code",
   "execution_count": null,
   "metadata": {
    "collapsed": false
   },
   "outputs": [],
   "source": [
    "node_sample_size"
   ]
  },
  {
   "cell_type": "markdown",
   "metadata": {},
   "source": [
    "E um dicionário de médias."
   ]
  },
  {
   "cell_type": "code",
   "execution_count": null,
   "metadata": {
    "collapsed": false
   },
   "outputs": [],
   "source": [
    "node_means['1']"
   ]
  },
  {
   "cell_type": "markdown",
   "metadata": {},
   "source": [
    "Temos tb uma lista de todos os nós:"
   ]
  },
  {
   "cell_type": "code",
   "execution_count": null,
   "metadata": {
    "collapsed": false
   },
   "outputs": [],
   "source": [
    "nodes"
   ]
  },
  {
   "cell_type": "markdown",
   "metadata": {},
   "source": [
    "É interessante notar como a matriz estimada para a raiz, ponderando as matrizes ao longo da filogenia, é idêntica à matriz ponderada dentro de grupos, calculada pelos modelos lineares anteriormente:"
   ]
  },
  {
   "cell_type": "code",
   "execution_count": null,
   "metadata": {
    "collapsed": false
   },
   "outputs": [],
   "source": [
    "w_matrix"
   ]
  },
  {
   "cell_type": "code",
   "execution_count": null,
   "metadata": {
    "collapsed": false
   },
   "outputs": [],
   "source": [
    "node_matrices['4']"
   ]
  },
  {
   "cell_type": "markdown",
   "metadata": {},
   "source": [
    "### $\\beta$ e $\\Delta z$\n",
    "\n",
    "Vamos agora estimar as mudanças evolutivas em cada ramo da filogenia, e, usando as matrizes ancestrais, calcular os gradientes de seleção estimados.\n",
    "\n",
    "Os $\\Delta z$ são apenas as diferenças nas médias de um nó com o seu acestral. Os $\\beta$ são estimados com a equação de Lande:\n",
    "\n",
    "$\n",
    "\\beta = G^{-1}\\Delta z\n",
    "$"
   ]
  },
  {
   "cell_type": "code",
   "execution_count": null,
   "metadata": {
    "collapsed": false
   },
   "outputs": [],
   "source": [
    "delta_z = {}\n",
    "beta = {}\n",
    "for n in tree.nodes()[1:]: #começamos do 1 para pular a raiz, que não tem ancestral\n",
    "    parent = get_node_name(n.parent_node)\n",
    "    branch = get_node_name(n) + '_' + parent\n",
    "    delta_z[branch] = node_means[get_node_name(n)] - node_means[parent]\n",
    "    beta[branch] = np.linalg.solve(node_matrices[parent], delta_z[branch])"
   ]
  },
  {
   "cell_type": "code",
   "execution_count": null,
   "metadata": {
    "collapsed": false
   },
   "outputs": [],
   "source": [
    "delta_z"
   ]
  },
  {
   "cell_type": "code",
   "execution_count": null,
   "metadata": {
    "collapsed": false
   },
   "outputs": [],
   "source": [
    "beta"
   ]
  },
  {
   "cell_type": "markdown",
   "metadata": {},
   "source": [
    "Podemos agora calcular a correlação entre os $\\beta$ e $\\Delta z$"
   ]
  },
  {
   "cell_type": "code",
   "execution_count": null,
   "metadata": {
    "collapsed": false
   },
   "outputs": [],
   "source": [
    "def vector_corr(x, y): return (np.dot(x, y)/(np.linalg.norm(x)*np.linalg.norm(y)))\n",
    "corr_beta_delta_z = {}\n",
    "for branch in delta_z:\n",
    "    corr_beta_delta_z[branch] = vector_corr(beta[branch], delta_z[branch])"
   ]
  },
  {
   "cell_type": "code",
   "execution_count": null,
   "metadata": {
    "collapsed": false
   },
   "outputs": [],
   "source": [
    "corr_beta_delta_z"
   ]
  },
  {
   "cell_type": "markdown",
   "metadata": {},
   "source": [
    "Podemos também calcular a relação entre a resposta evolutiva e o primeiro componente principal da matriz de covariação, a linha de menor resistência evolutiva. \n",
    "\n",
    "Como a direção primeiro componente é arbitrária, tomamos o valor absoluto da correlação."
   ]
  },
  {
   "cell_type": "code",
   "execution_count": null,
   "metadata": {
    "collapsed": false
   },
   "outputs": [],
   "source": [
    "corr_pc1 = {}\n",
    "for branch in delta_z:\n",
    "    parent = branch.split(\"_\")[1]\n",
    "    pc1 = np.linalg.eig(node_matrices[parent])[1][:,0]\n",
    "    corr_pc1[branch] = abs(vector_corr(delta_z[branch], pc1))"
   ]
  },
  {
   "cell_type": "code",
   "execution_count": null,
   "metadata": {
    "collapsed": false
   },
   "outputs": [],
   "source": [
    "corr_pc1"
   ]
  },
  {
   "cell_type": "markdown",
   "metadata": {},
   "source": [
    "Podemos utilizar o pandas para formatar esses resultados em tabelas"
   ]
  },
  {
   "cell_type": "code",
   "execution_count": null,
   "metadata": {
    "collapsed": false
   },
   "outputs": [],
   "source": [
    "df_betas = pd.DataFrame.from_dict(beta, orient='index')\n",
    "df_betas.columns = traits\n",
    "df_betas"
   ]
  },
  {
   "cell_type": "code",
   "execution_count": null,
   "metadata": {
    "collapsed": false
   },
   "outputs": [],
   "source": [
    "df_dz = pd.DataFrame.from_dict(delta_z, orient='index')\n",
    "df_dz.columns = traits\n",
    "df_dz"
   ]
  },
  {
   "cell_type": "code",
   "execution_count": null,
   "metadata": {
    "collapsed": false
   },
   "outputs": [],
   "source": [
    "traits_c = list(traits)\n",
    "traits_c.append('otu')\n",
    "df_matrices = pd.DataFrame(columns=traits_c)\n",
    "for node in node_matrices:\n",
    "    df = pd.DataFrame(node_matrices[node], columns=traits, index = traits)\n",
    "    df['otu'] = node\n",
    "    df_matrices = df_matrices.append(df)\n",
    "df_matrices\n"
   ]
  }
 ],
 "metadata": {
  "kernelspec": {
   "display_name": "Python 3",
   "language": "python",
   "name": "python3"
  },
  "language_info": {
   "codemirror_mode": {
    "name": "ipython",
    "version": 3
   },
   "file_extension": ".py",
   "mimetype": "text/x-python",
   "name": "python",
   "nbconvert_exporter": "python",
   "pygments_lexer": "ipython3",
   "version": "3.4.3"
  }
 },
 "nbformat": 4,
 "nbformat_minor": 0
}
