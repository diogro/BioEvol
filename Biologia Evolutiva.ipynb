{
 "metadata": {
  "name": ""
 },
 "nbformat": 3,
 "nbformat_minor": 0,
 "worksheets": [
  {
   "cells": [
    {
     "cell_type": "markdown",
     "metadata": {},
     "source": [
      "##Introdu\u00e7\u00e3o\n",
      "\n",
      "Esse notebook traz as analises pedidas na disciplina Biologia Evolutiva - Bio507\n",
      "\n",
      "Vamos aproveitar para ilustrar o uso de python e R dentro do mesmo ambiente de trabalho."
     ]
    },
    {
     "cell_type": "markdown",
     "metadata": {},
     "source": [
      "##Leitura de dados\n",
      "\n",
      "Primeiro vamos ler os dados usando o pandas.\n",
      "A fun\u00e7\u00e3o read_csv cria um data.frame com os dados.\n",
      "\n",
      "Podemos usar a fun\u00e7\u00e3o describe para ter um resumo global."
     ]
    },
    {
     "cell_type": "code",
     "collapsed": false,
     "input": [
      "import pandas as pd\n",
      "import numpy as np\n",
      "import dendropy  as dp\n",
      "\n",
      "dados_brutos = pd.read_csv(\"./dados.csv\")\n",
      "num_traits = 4\n",
      "traits = dados_brutos.columns[:num_traits]\n",
      "dados_brutos"
     ],
     "language": "python",
     "metadata": {},
     "outputs": [
      {
       "html": [
        "<pre>\n",
        "&lt;class 'pandas.core.frame.DataFrame'&gt;\n",
        "Int64Index: 300 entries, 0 to 299\n",
        "Data columns (total 5 columns):\n",
        "UMERO      300  non-null values\n",
        "ULNA       300  non-null values\n",
        "FEMUR      300  non-null values\n",
        "TIBIA      300  non-null values\n",
        "ESPECIE    300  non-null values\n",
        "dtypes: float64(4), object(1)\n",
        "</pre>"
       ],
       "metadata": {},
       "output_type": "pyout",
       "prompt_number": 76,
       "text": [
        "<class 'pandas.core.frame.DataFrame'>\n",
        "Int64Index: 300 entries, 0 to 299\n",
        "Data columns (total 5 columns):\n",
        "UMERO      300  non-null values\n",
        "ULNA       300  non-null values\n",
        "FEMUR      300  non-null values\n",
        "TIBIA      300  non-null values\n",
        "ESPECIE    300  non-null values\n",
        "dtypes: float64(4), object(1)"
       ]
      }
     ],
     "prompt_number": 76
    },
    {
     "cell_type": "code",
     "collapsed": false,
     "input": [
      "dados_brutos.head()"
     ],
     "language": "python",
     "metadata": {},
     "outputs": [
      {
       "html": [
        "<div style=\"max-height:1000px;max-width:1500px;overflow:auto;\">\n",
        "<table border=\"1\" class=\"dataframe\">\n",
        "  <thead>\n",
        "    <tr style=\"text-align: right;\">\n",
        "      <th></th>\n",
        "      <th>UMERO</th>\n",
        "      <th>ULNA</th>\n",
        "      <th>FEMUR</th>\n",
        "      <th>TIBIA</th>\n",
        "      <th>ESPECIE</th>\n",
        "    </tr>\n",
        "  </thead>\n",
        "  <tbody>\n",
        "    <tr>\n",
        "      <th>0</th>\n",
        "      <td> 3.214619</td>\n",
        "      <td>  8.036072</td>\n",
        "      <td> 13.517787</td>\n",
        "      <td> 19.011308</td>\n",
        "      <td> A</td>\n",
        "    </tr>\n",
        "    <tr>\n",
        "      <th>1</th>\n",
        "      <td> 5.222875</td>\n",
        "      <td> 10.838375</td>\n",
        "      <td> 15.547144</td>\n",
        "      <td> 21.017178</td>\n",
        "      <td> A</td>\n",
        "    </tr>\n",
        "    <tr>\n",
        "      <th>2</th>\n",
        "      <td> 5.193021</td>\n",
        "      <td> 11.911770</td>\n",
        "      <td> 17.247190</td>\n",
        "      <td> 22.431903</td>\n",
        "      <td> A</td>\n",
        "    </tr>\n",
        "    <tr>\n",
        "      <th>3</th>\n",
        "      <td> 6.547400</td>\n",
        "      <td> 11.293085</td>\n",
        "      <td> 14.890399</td>\n",
        "      <td> 20.177057</td>\n",
        "      <td> A</td>\n",
        "    </tr>\n",
        "    <tr>\n",
        "      <th>4</th>\n",
        "      <td> 4.724383</td>\n",
        "      <td>  9.897135</td>\n",
        "      <td> 14.811035</td>\n",
        "      <td> 19.597533</td>\n",
        "      <td> A</td>\n",
        "    </tr>\n",
        "  </tbody>\n",
        "</table>\n",
        "</div>"
       ],
       "metadata": {},
       "output_type": "pyout",
       "prompt_number": 77,
       "text": [
        "      UMERO       ULNA      FEMUR      TIBIA ESPECIE\n",
        "0  3.214619   8.036072  13.517787  19.011308       A\n",
        "1  5.222875  10.838375  15.547144  21.017178       A\n",
        "2  5.193021  11.911770  17.247190  22.431903       A\n",
        "3  6.547400  11.293085  14.890399  20.177057       A\n",
        "4  4.724383   9.897135  14.811035  19.597533       A"
       ]
      }
     ],
     "prompt_number": 77
    },
    {
     "cell_type": "code",
     "collapsed": false,
     "input": [
      "dados_brutos.describe()"
     ],
     "language": "python",
     "metadata": {},
     "outputs": [
      {
       "html": [
        "<div style=\"max-height:1000px;max-width:1500px;overflow:auto;\">\n",
        "<table border=\"1\" class=\"dataframe\">\n",
        "  <thead>\n",
        "    <tr style=\"text-align: right;\">\n",
        "      <th></th>\n",
        "      <th>UMERO</th>\n",
        "      <th>ULNA</th>\n",
        "      <th>FEMUR</th>\n",
        "      <th>TIBIA</th>\n",
        "    </tr>\n",
        "  </thead>\n",
        "  <tbody>\n",
        "    <tr>\n",
        "      <th>count</th>\n",
        "      <td> 300.000000</td>\n",
        "      <td> 300.000000</td>\n",
        "      <td> 300.000000</td>\n",
        "      <td> 300.000000</td>\n",
        "    </tr>\n",
        "    <tr>\n",
        "      <th>mean</th>\n",
        "      <td>   8.329141</td>\n",
        "      <td>  16.710483</td>\n",
        "      <td>  22.099096</td>\n",
        "      <td>  29.439649</td>\n",
        "    </tr>\n",
        "    <tr>\n",
        "      <th>std</th>\n",
        "      <td>   2.290569</td>\n",
        "      <td>   4.370596</td>\n",
        "      <td>   4.484063</td>\n",
        "      <td>   5.912966</td>\n",
        "    </tr>\n",
        "    <tr>\n",
        "      <th>min</th>\n",
        "      <td>   2.720256</td>\n",
        "      <td>   7.145574</td>\n",
        "      <td>  13.307339</td>\n",
        "      <td>  18.199906</td>\n",
        "    </tr>\n",
        "    <tr>\n",
        "      <th>25%</th>\n",
        "      <td>   6.752338</td>\n",
        "      <td>  14.004285</td>\n",
        "      <td>  19.904228</td>\n",
        "      <td>  26.598481</td>\n",
        "    </tr>\n",
        "    <tr>\n",
        "      <th>50%</th>\n",
        "      <td>   8.577857</td>\n",
        "      <td>  16.742268</td>\n",
        "      <td>  21.910598</td>\n",
        "      <td>  28.775488</td>\n",
        "    </tr>\n",
        "    <tr>\n",
        "      <th>75%</th>\n",
        "      <td>  10.197404</td>\n",
        "      <td>  20.604040</td>\n",
        "      <td>  26.021909</td>\n",
        "      <td>  34.724381</td>\n",
        "    </tr>\n",
        "    <tr>\n",
        "      <th>max</th>\n",
        "      <td>  13.067744</td>\n",
        "      <td>  24.320296</td>\n",
        "      <td>  30.659812</td>\n",
        "      <td>  39.132379</td>\n",
        "    </tr>\n",
        "  </tbody>\n",
        "</table>\n",
        "</div>"
       ],
       "metadata": {},
       "output_type": "pyout",
       "prompt_number": 78,
       "text": [
        "            UMERO        ULNA       FEMUR       TIBIA\n",
        "count  300.000000  300.000000  300.000000  300.000000\n",
        "mean     8.329141   16.710483   22.099096   29.439649\n",
        "std      2.290569    4.370596    4.484063    5.912966\n",
        "min      2.720256    7.145574   13.307339   18.199906\n",
        "25%      6.752338   14.004285   19.904228   26.598481\n",
        "50%      8.577857   16.742268   21.910598   28.775488\n",
        "75%     10.197404   20.604040   26.021909   34.724381\n",
        "max     13.067744   24.320296   30.659812   39.132379"
       ]
      }
     ],
     "prompt_number": 78
    },
    {
     "cell_type": "markdown",
     "metadata": {},
     "source": [
      "Podemos tamb\u00e9m usar a fun\u00e7\u00e3o groupby para aplicar fun\u00e7\u00f5es em sub conjuntos dos dados, agrupando pela coluna ESPECIE"
     ]
    },
    {
     "cell_type": "code",
     "collapsed": false,
     "input": [
      "dados_brutos.groupby('ESPECIE').describe()"
     ],
     "language": "python",
     "metadata": {},
     "outputs": [
      {
       "html": [
        "<div style=\"max-height:1000px;max-width:1500px;overflow:auto;\">\n",
        "<table border=\"1\" class=\"dataframe\">\n",
        "  <thead>\n",
        "    <tr style=\"text-align: right;\">\n",
        "      <th></th>\n",
        "      <th></th>\n",
        "      <th>UMERO</th>\n",
        "      <th>ULNA</th>\n",
        "      <th>FEMUR</th>\n",
        "      <th>TIBIA</th>\n",
        "    </tr>\n",
        "    <tr>\n",
        "      <th>ESPECIE</th>\n",
        "      <th></th>\n",
        "      <th></th>\n",
        "      <th></th>\n",
        "      <th></th>\n",
        "      <th></th>\n",
        "    </tr>\n",
        "  </thead>\n",
        "  <tbody>\n",
        "    <tr>\n",
        "      <th rowspan=\"8\" valign=\"top\">A</th>\n",
        "      <th>count</th>\n",
        "      <td> 60.000000</td>\n",
        "      <td> 60.000000</td>\n",
        "      <td> 60.000000</td>\n",
        "      <td> 60.000000</td>\n",
        "    </tr>\n",
        "    <tr>\n",
        "      <th>mean</th>\n",
        "      <td>  4.948718</td>\n",
        "      <td>  9.949203</td>\n",
        "      <td> 15.111193</td>\n",
        "      <td> 20.179938</td>\n",
        "    </tr>\n",
        "    <tr>\n",
        "      <th>std</th>\n",
        "      <td>  0.925434</td>\n",
        "      <td>  1.042259</td>\n",
        "      <td>  1.001978</td>\n",
        "      <td>  1.033350</td>\n",
        "    </tr>\n",
        "    <tr>\n",
        "      <th>min</th>\n",
        "      <td>  2.720256</td>\n",
        "      <td>  7.145574</td>\n",
        "      <td> 13.307339</td>\n",
        "      <td> 18.199906</td>\n",
        "    </tr>\n",
        "    <tr>\n",
        "      <th>25%</th>\n",
        "      <td>  4.460753</td>\n",
        "      <td>  9.439593</td>\n",
        "      <td> 14.418396</td>\n",
        "      <td> 19.531194</td>\n",
        "    </tr>\n",
        "    <tr>\n",
        "      <th>50%</th>\n",
        "      <td>  4.951055</td>\n",
        "      <td>  9.961670</td>\n",
        "      <td> 15.047091</td>\n",
        "      <td> 20.018262</td>\n",
        "    </tr>\n",
        "    <tr>\n",
        "      <th>75%</th>\n",
        "      <td>  5.450730</td>\n",
        "      <td> 10.626844</td>\n",
        "      <td> 15.583092</td>\n",
        "      <td> 20.841174</td>\n",
        "    </tr>\n",
        "    <tr>\n",
        "      <th>max</th>\n",
        "      <td>  6.771560</td>\n",
        "      <td> 11.990388</td>\n",
        "      <td> 17.963502</td>\n",
        "      <td> 22.431903</td>\n",
        "    </tr>\n",
        "    <tr>\n",
        "      <th rowspan=\"8\" valign=\"top\">B</th>\n",
        "      <th>count</th>\n",
        "      <td> 60.000000</td>\n",
        "      <td> 60.000000</td>\n",
        "      <td> 60.000000</td>\n",
        "      <td> 60.000000</td>\n",
        "    </tr>\n",
        "    <tr>\n",
        "      <th>mean</th>\n",
        "      <td>  8.449116</td>\n",
        "      <td> 17.043157</td>\n",
        "      <td> 25.583995</td>\n",
        "      <td> 34.039911</td>\n",
        "    </tr>\n",
        "    <tr>\n",
        "      <th>std</th>\n",
        "      <td>  1.043582</td>\n",
        "      <td>  0.976311</td>\n",
        "      <td>  0.959801</td>\n",
        "      <td>  1.026290</td>\n",
        "    </tr>\n",
        "    <tr>\n",
        "      <th>min</th>\n",
        "      <td>  5.956538</td>\n",
        "      <td> 15.259521</td>\n",
        "      <td> 23.771423</td>\n",
        "      <td> 31.814285</td>\n",
        "    </tr>\n",
        "    <tr>\n",
        "      <th>25%</th>\n",
        "      <td>  7.780216</td>\n",
        "      <td> 16.489761</td>\n",
        "      <td> 24.942347</td>\n",
        "      <td> 33.298108</td>\n",
        "    </tr>\n",
        "    <tr>\n",
        "      <th>50%</th>\n",
        "      <td>  8.407886</td>\n",
        "      <td> 16.742268</td>\n",
        "      <td> 25.467266</td>\n",
        "      <td> 34.001643</td>\n",
        "    </tr>\n",
        "    <tr>\n",
        "      <th>75%</th>\n",
        "      <td>  9.257750</td>\n",
        "      <td> 17.629024</td>\n",
        "      <td> 26.215958</td>\n",
        "      <td> 34.762250</td>\n",
        "    </tr>\n",
        "    <tr>\n",
        "      <th>max</th>\n",
        "      <td> 10.353900</td>\n",
        "      <td> 19.498368</td>\n",
        "      <td> 27.800655</td>\n",
        "      <td> 36.145970</td>\n",
        "    </tr>\n",
        "    <tr>\n",
        "      <th rowspan=\"8\" valign=\"top\">C</th>\n",
        "      <th>count</th>\n",
        "      <td> 60.000000</td>\n",
        "      <td> 60.000000</td>\n",
        "      <td> 60.000000</td>\n",
        "      <td> 60.000000</td>\n",
        "    </tr>\n",
        "    <tr>\n",
        "      <th>mean</th>\n",
        "      <td> 10.086848</td>\n",
        "      <td> 20.234410</td>\n",
        "      <td> 21.545636</td>\n",
        "      <td> 28.411278</td>\n",
        "    </tr>\n",
        "    <tr>\n",
        "      <th>std</th>\n",
        "      <td>  0.992821</td>\n",
        "      <td>  0.967816</td>\n",
        "      <td>  1.093285</td>\n",
        "      <td>  0.954835</td>\n",
        "    </tr>\n",
        "    <tr>\n",
        "      <th>min</th>\n",
        "      <td>  7.915180</td>\n",
        "      <td> 18.536947</td>\n",
        "      <td> 19.100210</td>\n",
        "      <td> 26.204498</td>\n",
        "    </tr>\n",
        "    <tr>\n",
        "      <th>25%</th>\n",
        "      <td>  9.368775</td>\n",
        "      <td> 19.513071</td>\n",
        "      <td> 20.828731</td>\n",
        "      <td> 27.711861</td>\n",
        "    </tr>\n",
        "    <tr>\n",
        "      <th>50%</th>\n",
        "      <td> 10.029947</td>\n",
        "      <td> 20.082332</td>\n",
        "      <td> 21.689081</td>\n",
        "      <td> 28.312005</td>\n",
        "    </tr>\n",
        "    <tr>\n",
        "      <th>75%</th>\n",
        "      <td> 10.751811</td>\n",
        "      <td> 20.898986</td>\n",
        "      <td> 22.222772</td>\n",
        "      <td> 29.228187</td>\n",
        "    </tr>\n",
        "    <tr>\n",
        "      <th>max</th>\n",
        "      <td> 12.299911</td>\n",
        "      <td> 22.437891</td>\n",
        "      <td> 24.249630</td>\n",
        "      <td> 30.351911</td>\n",
        "    </tr>\n",
        "    <tr>\n",
        "      <th rowspan=\"8\" valign=\"top\">D</th>\n",
        "      <th>count</th>\n",
        "      <td> 60.000000</td>\n",
        "      <td> 60.000000</td>\n",
        "      <td> 60.000000</td>\n",
        "      <td> 60.000000</td>\n",
        "    </tr>\n",
        "    <tr>\n",
        "      <th>mean</th>\n",
        "      <td> 10.764505</td>\n",
        "      <td> 21.917249</td>\n",
        "      <td> 27.701677</td>\n",
        "      <td> 37.039024</td>\n",
        "    </tr>\n",
        "    <tr>\n",
        "      <th>std</th>\n",
        "      <td>  0.997346</td>\n",
        "      <td>  0.999072</td>\n",
        "      <td>  1.092377</td>\n",
        "      <td>  0.954970</td>\n",
        "    </tr>\n",
        "    <tr>\n",
        "      <th>min</th>\n",
        "      <td>  8.294274</td>\n",
        "      <td> 19.323098</td>\n",
        "      <td> 25.050549</td>\n",
        "      <td> 34.571030</td>\n",
        "    </tr>\n",
        "    <tr>\n",
        "      <th>25%</th>\n",
        "      <td> 10.082454</td>\n",
        "      <td> 21.359714</td>\n",
        "      <td> 27.085591</td>\n",
        "      <td> 36.360565</td>\n",
        "    </tr>\n",
        "    <tr>\n",
        "      <th>50%</th>\n",
        "      <td> 10.749358</td>\n",
        "      <td> 21.845116</td>\n",
        "      <td> 27.638454</td>\n",
        "      <td> 37.123435</td>\n",
        "    </tr>\n",
        "    <tr>\n",
        "      <th>75%</th>\n",
        "      <td> 11.335582</td>\n",
        "      <td> 22.445897</td>\n",
        "      <td> 28.133082</td>\n",
        "      <td> 37.622279</td>\n",
        "    </tr>\n",
        "    <tr>\n",
        "      <th>max</th>\n",
        "      <td> 13.067744</td>\n",
        "      <td> 24.320296</td>\n",
        "      <td> 30.659812</td>\n",
        "      <td> 39.132379</td>\n",
        "    </tr>\n",
        "    <tr>\n",
        "      <th rowspan=\"8\" valign=\"top\">E</th>\n",
        "      <th>count</th>\n",
        "      <td> 60.000000</td>\n",
        "      <td> 60.000000</td>\n",
        "      <td> 60.000000</td>\n",
        "      <td> 60.000000</td>\n",
        "    </tr>\n",
        "    <tr>\n",
        "      <th>mean</th>\n",
        "      <td>  7.396516</td>\n",
        "      <td> 14.408397</td>\n",
        "      <td> 20.552979</td>\n",
        "      <td> 27.528095</td>\n",
        "    </tr>\n",
        "    <tr>\n",
        "      <th>std</th>\n",
        "      <td>  0.984802</td>\n",
        "      <td>  0.800716</td>\n",
        "      <td>  0.954628</td>\n",
        "      <td>  1.002057</td>\n",
        "    </tr>\n",
        "    <tr>\n",
        "      <th>min</th>\n",
        "      <td>  5.426811</td>\n",
        "      <td> 12.339996</td>\n",
        "      <td> 17.708506</td>\n",
        "      <td> 25.826498</td>\n",
        "    </tr>\n",
        "    <tr>\n",
        "      <th>25%</th>\n",
        "      <td>  6.797075</td>\n",
        "      <td> 14.004285</td>\n",
        "      <td> 20.119694</td>\n",
        "      <td> 26.641851</td>\n",
        "    </tr>\n",
        "    <tr>\n",
        "      <th>50%</th>\n",
        "      <td>  7.340141</td>\n",
        "      <td> 14.384812</td>\n",
        "      <td> 20.474181</td>\n",
        "      <td> 27.393652</td>\n",
        "    </tr>\n",
        "    <tr>\n",
        "      <th>75%</th>\n",
        "      <td>  7.970026</td>\n",
        "      <td> 14.957284</td>\n",
        "      <td> 21.161520</td>\n",
        "      <td> 28.284489</td>\n",
        "    </tr>\n",
        "    <tr>\n",
        "      <th>max</th>\n",
        "      <td> 10.177678</td>\n",
        "      <td> 16.104371</td>\n",
        "      <td> 22.462786</td>\n",
        "      <td> 29.440323</td>\n",
        "    </tr>\n",
        "  </tbody>\n",
        "</table>\n",
        "</div>"
       ],
       "metadata": {},
       "output_type": "pyout",
       "prompt_number": 79,
       "text": [
        "                   UMERO       ULNA      FEMUR      TIBIA\n",
        "ESPECIE                                                  \n",
        "A       count  60.000000  60.000000  60.000000  60.000000\n",
        "        mean    4.948718   9.949203  15.111193  20.179938\n",
        "        std     0.925434   1.042259   1.001978   1.033350\n",
        "        min     2.720256   7.145574  13.307339  18.199906\n",
        "        25%     4.460753   9.439593  14.418396  19.531194\n",
        "        50%     4.951055   9.961670  15.047091  20.018262\n",
        "        75%     5.450730  10.626844  15.583092  20.841174\n",
        "        max     6.771560  11.990388  17.963502  22.431903\n",
        "B       count  60.000000  60.000000  60.000000  60.000000\n",
        "        mean    8.449116  17.043157  25.583995  34.039911\n",
        "        std     1.043582   0.976311   0.959801   1.026290\n",
        "        min     5.956538  15.259521  23.771423  31.814285\n",
        "        25%     7.780216  16.489761  24.942347  33.298108\n",
        "        50%     8.407886  16.742268  25.467266  34.001643\n",
        "        75%     9.257750  17.629024  26.215958  34.762250\n",
        "        max    10.353900  19.498368  27.800655  36.145970\n",
        "C       count  60.000000  60.000000  60.000000  60.000000\n",
        "        mean   10.086848  20.234410  21.545636  28.411278\n",
        "        std     0.992821   0.967816   1.093285   0.954835\n",
        "        min     7.915180  18.536947  19.100210  26.204498\n",
        "        25%     9.368775  19.513071  20.828731  27.711861\n",
        "        50%    10.029947  20.082332  21.689081  28.312005\n",
        "        75%    10.751811  20.898986  22.222772  29.228187\n",
        "        max    12.299911  22.437891  24.249630  30.351911\n",
        "D       count  60.000000  60.000000  60.000000  60.000000\n",
        "        mean   10.764505  21.917249  27.701677  37.039024\n",
        "        std     0.997346   0.999072   1.092377   0.954970\n",
        "        min     8.294274  19.323098  25.050549  34.571030\n",
        "        25%    10.082454  21.359714  27.085591  36.360565\n",
        "        50%    10.749358  21.845116  27.638454  37.123435\n",
        "        75%    11.335582  22.445897  28.133082  37.622279\n",
        "        max    13.067744  24.320296  30.659812  39.132379\n",
        "E       count  60.000000  60.000000  60.000000  60.000000\n",
        "        mean    7.396516  14.408397  20.552979  27.528095\n",
        "        std     0.984802   0.800716   0.954628   1.002057\n",
        "        min     5.426811  12.339996  17.708506  25.826498\n",
        "        25%     6.797075  14.004285  20.119694  26.641851\n",
        "        50%     7.340141  14.384812  20.474181  27.393652\n",
        "        75%     7.970026  14.957284  21.161520  28.284489\n",
        "        max    10.177678  16.104371  22.462786  29.440323"
       ]
      }
     ],
     "prompt_number": 79
    },
    {
     "cell_type": "markdown",
     "metadata": {},
     "source": [
      "Vamos calcular as m\u00e9dias, desvios padr\u00e3o e coeficiantes de varia\u00e7\u00e3o por tra\u00e7o por esp\u00e9cie."
     ]
    },
    {
     "cell_type": "code",
     "collapsed": false,
     "input": [
      "medias = dados_brutos.groupby('ESPECIE').mean()\n",
      "medias"
     ],
     "language": "python",
     "metadata": {},
     "outputs": [
      {
       "html": [
        "<div style=\"max-height:1000px;max-width:1500px;overflow:auto;\">\n",
        "<table border=\"1\" class=\"dataframe\">\n",
        "  <thead>\n",
        "    <tr style=\"text-align: right;\">\n",
        "      <th></th>\n",
        "      <th>UMERO</th>\n",
        "      <th>ULNA</th>\n",
        "      <th>FEMUR</th>\n",
        "      <th>TIBIA</th>\n",
        "    </tr>\n",
        "    <tr>\n",
        "      <th>ESPECIE</th>\n",
        "      <th></th>\n",
        "      <th></th>\n",
        "      <th></th>\n",
        "      <th></th>\n",
        "    </tr>\n",
        "  </thead>\n",
        "  <tbody>\n",
        "    <tr>\n",
        "      <th>A</th>\n",
        "      <td>  4.948718</td>\n",
        "      <td>  9.949203</td>\n",
        "      <td> 15.111193</td>\n",
        "      <td> 20.179938</td>\n",
        "    </tr>\n",
        "    <tr>\n",
        "      <th>B</th>\n",
        "      <td>  8.449116</td>\n",
        "      <td> 17.043157</td>\n",
        "      <td> 25.583995</td>\n",
        "      <td> 34.039911</td>\n",
        "    </tr>\n",
        "    <tr>\n",
        "      <th>C</th>\n",
        "      <td> 10.086848</td>\n",
        "      <td> 20.234410</td>\n",
        "      <td> 21.545636</td>\n",
        "      <td> 28.411278</td>\n",
        "    </tr>\n",
        "    <tr>\n",
        "      <th>D</th>\n",
        "      <td> 10.764505</td>\n",
        "      <td> 21.917249</td>\n",
        "      <td> 27.701677</td>\n",
        "      <td> 37.039024</td>\n",
        "    </tr>\n",
        "    <tr>\n",
        "      <th>E</th>\n",
        "      <td>  7.396516</td>\n",
        "      <td> 14.408397</td>\n",
        "      <td> 20.552979</td>\n",
        "      <td> 27.528095</td>\n",
        "    </tr>\n",
        "  </tbody>\n",
        "</table>\n",
        "</div>"
       ],
       "metadata": {},
       "output_type": "pyout",
       "prompt_number": 80,
       "text": [
        "             UMERO       ULNA      FEMUR      TIBIA\n",
        "ESPECIE                                            \n",
        "A         4.948718   9.949203  15.111193  20.179938\n",
        "B         8.449116  17.043157  25.583995  34.039911\n",
        "C        10.086848  20.234410  21.545636  28.411278\n",
        "D        10.764505  21.917249  27.701677  37.039024\n",
        "E         7.396516  14.408397  20.552979  27.528095"
       ]
      }
     ],
     "prompt_number": 80
    },
    {
     "cell_type": "code",
     "collapsed": false,
     "input": [
      "std = dados_brutos.groupby('ESPECIE').std()\n",
      "std"
     ],
     "language": "python",
     "metadata": {},
     "outputs": [
      {
       "html": [
        "<div style=\"max-height:1000px;max-width:1500px;overflow:auto;\">\n",
        "<table border=\"1\" class=\"dataframe\">\n",
        "  <thead>\n",
        "    <tr style=\"text-align: right;\">\n",
        "      <th></th>\n",
        "      <th>UMERO</th>\n",
        "      <th>ULNA</th>\n",
        "      <th>FEMUR</th>\n",
        "      <th>TIBIA</th>\n",
        "    </tr>\n",
        "    <tr>\n",
        "      <th>ESPECIE</th>\n",
        "      <th></th>\n",
        "      <th></th>\n",
        "      <th></th>\n",
        "      <th></th>\n",
        "    </tr>\n",
        "  </thead>\n",
        "  <tbody>\n",
        "    <tr>\n",
        "      <th>A</th>\n",
        "      <td> 0.925434</td>\n",
        "      <td> 1.042259</td>\n",
        "      <td> 1.001978</td>\n",
        "      <td> 1.033350</td>\n",
        "    </tr>\n",
        "    <tr>\n",
        "      <th>B</th>\n",
        "      <td> 1.043582</td>\n",
        "      <td> 0.976311</td>\n",
        "      <td> 0.959801</td>\n",
        "      <td> 1.026290</td>\n",
        "    </tr>\n",
        "    <tr>\n",
        "      <th>C</th>\n",
        "      <td> 0.992821</td>\n",
        "      <td> 0.967816</td>\n",
        "      <td> 1.093285</td>\n",
        "      <td> 0.954835</td>\n",
        "    </tr>\n",
        "    <tr>\n",
        "      <th>D</th>\n",
        "      <td> 0.997346</td>\n",
        "      <td> 0.999072</td>\n",
        "      <td> 1.092377</td>\n",
        "      <td> 0.954970</td>\n",
        "    </tr>\n",
        "    <tr>\n",
        "      <th>E</th>\n",
        "      <td> 0.984802</td>\n",
        "      <td> 0.800716</td>\n",
        "      <td> 0.954628</td>\n",
        "      <td> 1.002057</td>\n",
        "    </tr>\n",
        "  </tbody>\n",
        "</table>\n",
        "</div>"
       ],
       "metadata": {},
       "output_type": "pyout",
       "prompt_number": 81,
       "text": [
        "            UMERO      ULNA     FEMUR     TIBIA\n",
        "ESPECIE                                        \n",
        "A        0.925434  1.042259  1.001978  1.033350\n",
        "B        1.043582  0.976311  0.959801  1.026290\n",
        "C        0.992821  0.967816  1.093285  0.954835\n",
        "D        0.997346  0.999072  1.092377  0.954970\n",
        "E        0.984802  0.800716  0.954628  1.002057"
       ]
      }
     ],
     "prompt_number": 81
    },
    {
     "cell_type": "code",
     "collapsed": false,
     "input": [
      "cv = std/medias\n",
      "cv"
     ],
     "language": "python",
     "metadata": {},
     "outputs": [
      {
       "html": [
        "<div style=\"max-height:1000px;max-width:1500px;overflow:auto;\">\n",
        "<table border=\"1\" class=\"dataframe\">\n",
        "  <thead>\n",
        "    <tr style=\"text-align: right;\">\n",
        "      <th></th>\n",
        "      <th>UMERO</th>\n",
        "      <th>ULNA</th>\n",
        "      <th>FEMUR</th>\n",
        "      <th>TIBIA</th>\n",
        "    </tr>\n",
        "    <tr>\n",
        "      <th>ESPECIE</th>\n",
        "      <th></th>\n",
        "      <th></th>\n",
        "      <th></th>\n",
        "      <th></th>\n",
        "    </tr>\n",
        "  </thead>\n",
        "  <tbody>\n",
        "    <tr>\n",
        "      <th>A</th>\n",
        "      <td> 0.187005</td>\n",
        "      <td> 0.104758</td>\n",
        "      <td> 0.066307</td>\n",
        "      <td> 0.051207</td>\n",
        "    </tr>\n",
        "    <tr>\n",
        "      <th>B</th>\n",
        "      <td> 0.123514</td>\n",
        "      <td> 0.057285</td>\n",
        "      <td> 0.037516</td>\n",
        "      <td> 0.030150</td>\n",
        "    </tr>\n",
        "    <tr>\n",
        "      <th>C</th>\n",
        "      <td> 0.098427</td>\n",
        "      <td> 0.047830</td>\n",
        "      <td> 0.050743</td>\n",
        "      <td> 0.033608</td>\n",
        "    </tr>\n",
        "    <tr>\n",
        "      <th>D</th>\n",
        "      <td> 0.092651</td>\n",
        "      <td> 0.045584</td>\n",
        "      <td> 0.039434</td>\n",
        "      <td> 0.025783</td>\n",
        "    </tr>\n",
        "    <tr>\n",
        "      <th>E</th>\n",
        "      <td> 0.133144</td>\n",
        "      <td> 0.055573</td>\n",
        "      <td> 0.046447</td>\n",
        "      <td> 0.036401</td>\n",
        "    </tr>\n",
        "  </tbody>\n",
        "</table>\n",
        "</div>"
       ],
       "metadata": {},
       "output_type": "pyout",
       "prompt_number": 82,
       "text": [
        "            UMERO      ULNA     FEMUR     TIBIA\n",
        "ESPECIE                                        \n",
        "A        0.187005  0.104758  0.066307  0.051207\n",
        "B        0.123514  0.057285  0.037516  0.030150\n",
        "C        0.098427  0.047830  0.050743  0.033608\n",
        "D        0.092651  0.045584  0.039434  0.025783\n",
        "E        0.133144  0.055573  0.046447  0.036401"
       ]
      }
     ],
     "prompt_number": 82
    },
    {
     "cell_type": "markdown",
     "metadata": {},
     "source": [
      "###Usando o R\n",
      "\n",
      "Tamb\u00e9m \u00e9 possivel usar diretamente o R dentro do notebook.\n",
      "\n",
      "Vamos usar o pacote ggplot2 para fazer um gr\u00e1fico sum\u00e1rio das nossas vari\u00e1veis."
     ]
    },
    {
     "cell_type": "code",
     "collapsed": false,
     "input": [
      "%load_ext rmagic "
     ],
     "language": "python",
     "metadata": {},
     "outputs": [],
     "prompt_number": 84
    },
    {
     "cell_type": "code",
     "collapsed": false,
     "input": [
      "import pandas.rpy.common as com\n",
      "dados_brutos_R = com.convert_to_r_dataframe(dados_brutos)\n",
      "%Rpush dados_brutos_R"
     ],
     "language": "python",
     "metadata": {},
     "outputs": [],
     "prompt_number": 85
    },
    {
     "cell_type": "code",
     "collapsed": false,
     "input": [
      "%%R\n",
      "library(ggplot2); library(reshape2)\n",
      "dados_brutos_R[1:4] = apply(dados_brutos_R[1:4], 2, as.numeric)\n",
      "dados_brutos_R[,5] = as.character(dados_brutos_R[,5])\n",
      "dados.melted = melt(dados_brutos_R, id.vars = 'ESPECIE')\n",
      "box_plots = ggplot(dados.melted, \n",
      "                   aes(ESPECIE, \n",
      "                       value, \n",
      "                       group = interaction(ESPECIE, variable), \n",
      "                       color= variable)) + geom_boxplot()\n",
      "print(box_plots)"
     ],
     "language": "python",
     "metadata": {},
     "outputs": [
      {
       "metadata": {},
       "output_type": "display_data",
       "png": "[encoded data removed]"
      }
     ],
     "prompt_number": 86
    },
    {
     "cell_type": "markdown",
     "metadata": {},
     "source": [
      "##Calculando matrizes de covari\u00e2ncia\n",
      "\n",
      "Vamos calcular as matrizes de covari\u00e2ncia e correla\u00e7\u00e3o por esp\u00e9cie, al\u00e9m das m\u00e9dias, e agrup\u00e1-las num dicion\u00e1rio."
     ]
    },
    {
     "cell_type": "code",
     "collapsed": false,
     "input": [
      "cov_matrices = dados_brutos.groupby('ESPECIE').apply(lambda x: x.cov())\n",
      "cor_matrices = dados_brutos.groupby('ESPECIE').apply(lambda x: x.corr())\n",
      "especies_labels = list(pd.unique(dados_brutos['ESPECIE']))"
     ],
     "language": "python",
     "metadata": {},
     "outputs": [],
     "prompt_number": 87
    },
    {
     "cell_type": "code",
     "collapsed": false,
     "input": [
      "cov_matrices"
     ],
     "language": "python",
     "metadata": {},
     "outputs": [
      {
       "html": [
        "<div style=\"max-height:1000px;max-width:1500px;overflow:auto;\">\n",
        "<table border=\"1\" class=\"dataframe\">\n",
        "  <thead>\n",
        "    <tr style=\"text-align: right;\">\n",
        "      <th></th>\n",
        "      <th></th>\n",
        "      <th>UMERO</th>\n",
        "      <th>ULNA</th>\n",
        "      <th>FEMUR</th>\n",
        "      <th>TIBIA</th>\n",
        "    </tr>\n",
        "    <tr>\n",
        "      <th>ESPECIE</th>\n",
        "      <th></th>\n",
        "      <th></th>\n",
        "      <th></th>\n",
        "      <th></th>\n",
        "      <th></th>\n",
        "    </tr>\n",
        "  </thead>\n",
        "  <tbody>\n",
        "    <tr>\n",
        "      <th rowspan=\"4\" valign=\"top\">A</th>\n",
        "      <th>UMERO</th>\n",
        "      <td> 0.856428</td>\n",
        "      <td> 0.775719</td>\n",
        "      <td> 0.216278</td>\n",
        "      <td> 0.275482</td>\n",
        "    </tr>\n",
        "    <tr>\n",
        "      <th>ULNA</th>\n",
        "      <td> 0.775719</td>\n",
        "      <td> 1.086305</td>\n",
        "      <td> 0.317295</td>\n",
        "      <td> 0.357705</td>\n",
        "    </tr>\n",
        "    <tr>\n",
        "      <th>FEMUR</th>\n",
        "      <td> 0.216278</td>\n",
        "      <td> 0.317295</td>\n",
        "      <td> 1.003959</td>\n",
        "      <td> 0.796279</td>\n",
        "    </tr>\n",
        "    <tr>\n",
        "      <th>TIBIA</th>\n",
        "      <td> 0.275482</td>\n",
        "      <td> 0.357705</td>\n",
        "      <td> 0.796279</td>\n",
        "      <td> 1.067811</td>\n",
        "    </tr>\n",
        "    <tr>\n",
        "      <th rowspan=\"4\" valign=\"top\">B</th>\n",
        "      <th>UMERO</th>\n",
        "      <td> 1.089062</td>\n",
        "      <td> 0.441458</td>\n",
        "      <td> 0.173216</td>\n",
        "      <td> 0.197140</td>\n",
        "    </tr>\n",
        "    <tr>\n",
        "      <th>ULNA</th>\n",
        "      <td> 0.441458</td>\n",
        "      <td> 0.953183</td>\n",
        "      <td> 0.037394</td>\n",
        "      <td> 0.137664</td>\n",
        "    </tr>\n",
        "    <tr>\n",
        "      <th>FEMUR</th>\n",
        "      <td> 0.173216</td>\n",
        "      <td> 0.037394</td>\n",
        "      <td> 0.921217</td>\n",
        "      <td> 0.679280</td>\n",
        "    </tr>\n",
        "    <tr>\n",
        "      <th>TIBIA</th>\n",
        "      <td> 0.197140</td>\n",
        "      <td> 0.137664</td>\n",
        "      <td> 0.679280</td>\n",
        "      <td> 1.053271</td>\n",
        "    </tr>\n",
        "    <tr>\n",
        "      <th rowspan=\"4\" valign=\"top\">C</th>\n",
        "      <th>UMERO</th>\n",
        "      <td> 0.985693</td>\n",
        "      <td> 0.757909</td>\n",
        "      <td> 0.016274</td>\n",
        "      <td> 0.328934</td>\n",
        "    </tr>\n",
        "    <tr>\n",
        "      <th>ULNA</th>\n",
        "      <td> 0.757909</td>\n",
        "      <td> 0.936668</td>\n",
        "      <td> 0.085370</td>\n",
        "      <td> 0.336382</td>\n",
        "    </tr>\n",
        "    <tr>\n",
        "      <th>FEMUR</th>\n",
        "      <td> 0.016274</td>\n",
        "      <td> 0.085370</td>\n",
        "      <td> 1.195272</td>\n",
        "      <td> 0.173524</td>\n",
        "    </tr>\n",
        "    <tr>\n",
        "      <th>TIBIA</th>\n",
        "      <td> 0.328934</td>\n",
        "      <td> 0.336382</td>\n",
        "      <td> 0.173524</td>\n",
        "      <td> 0.911711</td>\n",
        "    </tr>\n",
        "    <tr>\n",
        "      <th rowspan=\"4\" valign=\"top\">D</th>\n",
        "      <th>UMERO</th>\n",
        "      <td> 0.994699</td>\n",
        "      <td> 0.776167</td>\n",
        "      <td> 0.562616</td>\n",
        "      <td> 0.558410</td>\n",
        "    </tr>\n",
        "    <tr>\n",
        "      <th>ULNA</th>\n",
        "      <td> 0.776167</td>\n",
        "      <td> 0.998145</td>\n",
        "      <td> 0.790311</td>\n",
        "      <td> 0.636777</td>\n",
        "    </tr>\n",
        "    <tr>\n",
        "      <th>FEMUR</th>\n",
        "      <td> 0.562616</td>\n",
        "      <td> 0.790311</td>\n",
        "      <td> 1.193287</td>\n",
        "      <td> 0.605724</td>\n",
        "    </tr>\n",
        "    <tr>\n",
        "      <th>TIBIA</th>\n",
        "      <td> 0.558410</td>\n",
        "      <td> 0.636777</td>\n",
        "      <td> 0.605724</td>\n",
        "      <td> 0.911968</td>\n",
        "    </tr>\n",
        "    <tr>\n",
        "      <th rowspan=\"4\" valign=\"top\">E</th>\n",
        "      <th>UMERO</th>\n",
        "      <td> 0.969835</td>\n",
        "      <td>-0.096421</td>\n",
        "      <td> 0.020960</td>\n",
        "      <td> 0.360699</td>\n",
        "    </tr>\n",
        "    <tr>\n",
        "      <th>ULNA</th>\n",
        "      <td>-0.096421</td>\n",
        "      <td> 0.641145</td>\n",
        "      <td> 0.010365</td>\n",
        "      <td> 0.127960</td>\n",
        "    </tr>\n",
        "    <tr>\n",
        "      <th>FEMUR</th>\n",
        "      <td> 0.020960</td>\n",
        "      <td> 0.010365</td>\n",
        "      <td> 0.911314</td>\n",
        "      <td> 0.248547</td>\n",
        "    </tr>\n",
        "    <tr>\n",
        "      <th>TIBIA</th>\n",
        "      <td> 0.360699</td>\n",
        "      <td> 0.127960</td>\n",
        "      <td> 0.248547</td>\n",
        "      <td> 1.004119</td>\n",
        "    </tr>\n",
        "  </tbody>\n",
        "</table>\n",
        "</div>"
       ],
       "metadata": {},
       "output_type": "pyout",
       "prompt_number": 88,
       "text": [
        "                  UMERO      ULNA     FEMUR     TIBIA\n",
        "ESPECIE                                              \n",
        "A       UMERO  0.856428  0.775719  0.216278  0.275482\n",
        "        ULNA   0.775719  1.086305  0.317295  0.357705\n",
        "        FEMUR  0.216278  0.317295  1.003959  0.796279\n",
        "        TIBIA  0.275482  0.357705  0.796279  1.067811\n",
        "B       UMERO  1.089062  0.441458  0.173216  0.197140\n",
        "        ULNA   0.441458  0.953183  0.037394  0.137664\n",
        "        FEMUR  0.173216  0.037394  0.921217  0.679280\n",
        "        TIBIA  0.197140  0.137664  0.679280  1.053271\n",
        "C       UMERO  0.985693  0.757909  0.016274  0.328934\n",
        "        ULNA   0.757909  0.936668  0.085370  0.336382\n",
        "        FEMUR  0.016274  0.085370  1.195272  0.173524\n",
        "        TIBIA  0.328934  0.336382  0.173524  0.911711\n",
        "D       UMERO  0.994699  0.776167  0.562616  0.558410\n",
        "        ULNA   0.776167  0.998145  0.790311  0.636777\n",
        "        FEMUR  0.562616  0.790311  1.193287  0.605724\n",
        "        TIBIA  0.558410  0.636777  0.605724  0.911968\n",
        "E       UMERO  0.969835 -0.096421  0.020960  0.360699\n",
        "        ULNA  -0.096421  0.641145  0.010365  0.127960\n",
        "        FEMUR  0.020960  0.010365  0.911314  0.248547\n",
        "        TIBIA  0.360699  0.127960  0.248547  1.004119"
       ]
      }
     ],
     "prompt_number": 88
    },
    {
     "cell_type": "code",
     "collapsed": false,
     "input": [
      "cor_matrices"
     ],
     "language": "python",
     "metadata": {},
     "outputs": [
      {
       "html": [
        "<div style=\"max-height:1000px;max-width:1500px;overflow:auto;\">\n",
        "<table border=\"1\" class=\"dataframe\">\n",
        "  <thead>\n",
        "    <tr style=\"text-align: right;\">\n",
        "      <th></th>\n",
        "      <th></th>\n",
        "      <th>UMERO</th>\n",
        "      <th>ULNA</th>\n",
        "      <th>FEMUR</th>\n",
        "      <th>TIBIA</th>\n",
        "    </tr>\n",
        "    <tr>\n",
        "      <th>ESPECIE</th>\n",
        "      <th></th>\n",
        "      <th></th>\n",
        "      <th></th>\n",
        "      <th></th>\n",
        "      <th></th>\n",
        "    </tr>\n",
        "  </thead>\n",
        "  <tbody>\n",
        "    <tr>\n",
        "      <th rowspan=\"4\" valign=\"top\">A</th>\n",
        "      <th>UMERO</th>\n",
        "      <td> 1.000000</td>\n",
        "      <td> 0.804235</td>\n",
        "      <td> 0.233244</td>\n",
        "      <td> 0.288072</td>\n",
        "    </tr>\n",
        "    <tr>\n",
        "      <th>ULNA</th>\n",
        "      <td> 0.804235</td>\n",
        "      <td> 1.000000</td>\n",
        "      <td> 0.303829</td>\n",
        "      <td> 0.332125</td>\n",
        "    </tr>\n",
        "    <tr>\n",
        "      <th>FEMUR</th>\n",
        "      <td> 0.233244</td>\n",
        "      <td> 0.303829</td>\n",
        "      <td> 1.000000</td>\n",
        "      <td> 0.769060</td>\n",
        "    </tr>\n",
        "    <tr>\n",
        "      <th>TIBIA</th>\n",
        "      <td> 0.288072</td>\n",
        "      <td> 0.332125</td>\n",
        "      <td> 0.769060</td>\n",
        "      <td> 1.000000</td>\n",
        "    </tr>\n",
        "    <tr>\n",
        "      <th rowspan=\"4\" valign=\"top\">B</th>\n",
        "      <th>UMERO</th>\n",
        "      <td> 1.000000</td>\n",
        "      <td> 0.433286</td>\n",
        "      <td> 0.172934</td>\n",
        "      <td> 0.184068</td>\n",
        "    </tr>\n",
        "    <tr>\n",
        "      <th>ULNA</th>\n",
        "      <td> 0.433286</td>\n",
        "      <td> 1.000000</td>\n",
        "      <td> 0.039905</td>\n",
        "      <td> 0.137392</td>\n",
        "    </tr>\n",
        "    <tr>\n",
        "      <th>FEMUR</th>\n",
        "      <td> 0.172934</td>\n",
        "      <td> 0.039905</td>\n",
        "      <td> 1.000000</td>\n",
        "      <td> 0.689601</td>\n",
        "    </tr>\n",
        "    <tr>\n",
        "      <th>TIBIA</th>\n",
        "      <td> 0.184068</td>\n",
        "      <td> 0.137392</td>\n",
        "      <td> 0.689601</td>\n",
        "      <td> 1.000000</td>\n",
        "    </tr>\n",
        "    <tr>\n",
        "      <th rowspan=\"4\" valign=\"top\">C</th>\n",
        "      <th>UMERO</th>\n",
        "      <td> 1.000000</td>\n",
        "      <td> 0.788776</td>\n",
        "      <td> 0.014993</td>\n",
        "      <td> 0.346984</td>\n",
        "    </tr>\n",
        "    <tr>\n",
        "      <th>ULNA</th>\n",
        "      <td> 0.788776</td>\n",
        "      <td> 1.000000</td>\n",
        "      <td> 0.080683</td>\n",
        "      <td> 0.364008</td>\n",
        "    </tr>\n",
        "    <tr>\n",
        "      <th>FEMUR</th>\n",
        "      <td> 0.014993</td>\n",
        "      <td> 0.080683</td>\n",
        "      <td> 1.000000</td>\n",
        "      <td> 0.166225</td>\n",
        "    </tr>\n",
        "    <tr>\n",
        "      <th>TIBIA</th>\n",
        "      <td> 0.346984</td>\n",
        "      <td> 0.364008</td>\n",
        "      <td> 0.166225</td>\n",
        "      <td> 1.000000</td>\n",
        "    </tr>\n",
        "    <tr>\n",
        "      <th rowspan=\"4\" valign=\"top\">D</th>\n",
        "      <th>UMERO</th>\n",
        "      <td> 1.000000</td>\n",
        "      <td> 0.778955</td>\n",
        "      <td> 0.516409</td>\n",
        "      <td> 0.586296</td>\n",
        "    </tr>\n",
        "    <tr>\n",
        "      <th>ULNA</th>\n",
        "      <td> 0.778955</td>\n",
        "      <td> 1.000000</td>\n",
        "      <td> 0.724150</td>\n",
        "      <td> 0.667422</td>\n",
        "    </tr>\n",
        "    <tr>\n",
        "      <th>FEMUR</th>\n",
        "      <td> 0.516409</td>\n",
        "      <td> 0.724150</td>\n",
        "      <td> 1.000000</td>\n",
        "      <td> 0.580647</td>\n",
        "    </tr>\n",
        "    <tr>\n",
        "      <th>TIBIA</th>\n",
        "      <td> 0.586296</td>\n",
        "      <td> 0.667422</td>\n",
        "      <td> 0.580647</td>\n",
        "      <td> 1.000000</td>\n",
        "    </tr>\n",
        "    <tr>\n",
        "      <th rowspan=\"4\" valign=\"top\">E</th>\n",
        "      <th>UMERO</th>\n",
        "      <td> 1.000000</td>\n",
        "      <td>-0.122277</td>\n",
        "      <td> 0.022295</td>\n",
        "      <td> 0.365514</td>\n",
        "    </tr>\n",
        "    <tr>\n",
        "      <th>ULNA</th>\n",
        "      <td>-0.122277</td>\n",
        "      <td> 1.000000</td>\n",
        "      <td> 0.013559</td>\n",
        "      <td> 0.159479</td>\n",
        "    </tr>\n",
        "    <tr>\n",
        "      <th>FEMUR</th>\n",
        "      <td> 0.022295</td>\n",
        "      <td> 0.013559</td>\n",
        "      <td> 1.000000</td>\n",
        "      <td> 0.259826</td>\n",
        "    </tr>\n",
        "    <tr>\n",
        "      <th>TIBIA</th>\n",
        "      <td> 0.365514</td>\n",
        "      <td> 0.159479</td>\n",
        "      <td> 0.259826</td>\n",
        "      <td> 1.000000</td>\n",
        "    </tr>\n",
        "  </tbody>\n",
        "</table>\n",
        "</div>"
       ],
       "metadata": {},
       "output_type": "pyout",
       "prompt_number": 89,
       "text": [
        "                  UMERO      ULNA     FEMUR     TIBIA\n",
        "ESPECIE                                              \n",
        "A       UMERO  1.000000  0.804235  0.233244  0.288072\n",
        "        ULNA   0.804235  1.000000  0.303829  0.332125\n",
        "        FEMUR  0.233244  0.303829  1.000000  0.769060\n",
        "        TIBIA  0.288072  0.332125  0.769060  1.000000\n",
        "B       UMERO  1.000000  0.433286  0.172934  0.184068\n",
        "        ULNA   0.433286  1.000000  0.039905  0.137392\n",
        "        FEMUR  0.172934  0.039905  1.000000  0.689601\n",
        "        TIBIA  0.184068  0.137392  0.689601  1.000000\n",
        "C       UMERO  1.000000  0.788776  0.014993  0.346984\n",
        "        ULNA   0.788776  1.000000  0.080683  0.364008\n",
        "        FEMUR  0.014993  0.080683  1.000000  0.166225\n",
        "        TIBIA  0.346984  0.364008  0.166225  1.000000\n",
        "D       UMERO  1.000000  0.778955  0.516409  0.586296\n",
        "        ULNA   0.778955  1.000000  0.724150  0.667422\n",
        "        FEMUR  0.516409  0.724150  1.000000  0.580647\n",
        "        TIBIA  0.586296  0.667422  0.580647  1.000000\n",
        "E       UMERO  1.000000 -0.122277  0.022295  0.365514\n",
        "        ULNA  -0.122277  1.000000  0.013559  0.159479\n",
        "        FEMUR  0.022295  0.013559  1.000000  0.259826\n",
        "        TIBIA  0.365514  0.159479  0.259826  1.000000"
       ]
      }
     ],
     "prompt_number": 89
    },
    {
     "cell_type": "markdown",
     "metadata": {},
     "source": [
      "Podemos tamb\u00e9m acessar as matrizes pelo nome da esp\u00e9cie:"
     ]
    },
    {
     "cell_type": "code",
     "collapsed": false,
     "input": [
      "cor_matrices.T['C']"
     ],
     "language": "python",
     "metadata": {},
     "outputs": [
      {
       "html": [
        "<div style=\"max-height:1000px;max-width:1500px;overflow:auto;\">\n",
        "<table border=\"1\" class=\"dataframe\">\n",
        "  <thead>\n",
        "    <tr style=\"text-align: right;\">\n",
        "      <th></th>\n",
        "      <th>UMERO</th>\n",
        "      <th>ULNA</th>\n",
        "      <th>FEMUR</th>\n",
        "      <th>TIBIA</th>\n",
        "    </tr>\n",
        "  </thead>\n",
        "  <tbody>\n",
        "    <tr>\n",
        "      <th>UMERO</th>\n",
        "      <td> 1.000000</td>\n",
        "      <td> 0.788776</td>\n",
        "      <td> 0.014993</td>\n",
        "      <td> 0.346984</td>\n",
        "    </tr>\n",
        "    <tr>\n",
        "      <th>ULNA</th>\n",
        "      <td> 0.788776</td>\n",
        "      <td> 1.000000</td>\n",
        "      <td> 0.080683</td>\n",
        "      <td> 0.364008</td>\n",
        "    </tr>\n",
        "    <tr>\n",
        "      <th>FEMUR</th>\n",
        "      <td> 0.014993</td>\n",
        "      <td> 0.080683</td>\n",
        "      <td> 1.000000</td>\n",
        "      <td> 0.166225</td>\n",
        "    </tr>\n",
        "    <tr>\n",
        "      <th>TIBIA</th>\n",
        "      <td> 0.346984</td>\n",
        "      <td> 0.364008</td>\n",
        "      <td> 0.166225</td>\n",
        "      <td> 1.000000</td>\n",
        "    </tr>\n",
        "  </tbody>\n",
        "</table>\n",
        "</div>"
       ],
       "metadata": {},
       "output_type": "pyout",
       "prompt_number": 90,
       "text": [
        "          UMERO      ULNA     FEMUR     TIBIA\n",
        "UMERO  1.000000  0.788776  0.014993  0.346984\n",
        "ULNA   0.788776  1.000000  0.080683  0.364008\n",
        "FEMUR  0.014993  0.080683  1.000000  0.166225\n",
        "TIBIA  0.346984  0.364008  0.166225  1.000000"
       ]
      }
     ],
     "prompt_number": 90
    },
    {
     "cell_type": "markdown",
     "metadata": {},
     "source": [
      "Ou fazer um plot de todas elas"
     ]
    },
    {
     "cell_type": "code",
     "collapsed": false,
     "input": [
      "%R library(plotrix)\n",
      "for sp in especies_labels:\n",
      "    mat = np.array(cor_matrices.T[sp])\n",
      "    print sp\n",
      "    %Rpush mat\n",
      "    %R color2D.matplot(mat)"
     ],
     "language": "python",
     "metadata": {},
     "outputs": [
      {
       "output_type": "stream",
       "stream": "stdout",
       "text": [
        "A\n"
       ]
      },
      {
       "metadata": {},
       "output_type": "display_data",
       "png": "[encoded data removed]"
      },
      {
       "output_type": "stream",
       "stream": "stdout",
       "text": [
        "B\n"
       ]
      },
      {
       "metadata": {},
       "output_type": "display_data",
       "png": "[encoded data removed]"
      },
      {
       "output_type": "stream",
       "stream": "stdout",
       "text": [
        "C\n"
       ]
      },
      {
       "metadata": {},
       "output_type": "display_data",
       "png": "[encoded data removed]"
      },
      {
       "output_type": "stream",
       "stream": "stdout",
       "text": [
        "D\n"
       ]
      },
      {
       "metadata": {},
       "output_type": "display_data",
       "png": "[encoded data removed]"
      },
      {
       "output_type": "stream",
       "stream": "stdout",
       "text": [
        "E\n"
       ]
      },
      {
       "metadata": {},
       "output_type": "display_data",
       "png": "[encoded data removed]"
      }
     ],
     "prompt_number": 91
    },
    {
     "cell_type": "markdown",
     "metadata": {},
     "source": [
      "##Analise de vari\u00e2ncia\n",
      "\n",
      "Calculando as matrizes dentro de grupos, entre grupos e total"
     ]
    },
    {
     "cell_type": "code",
     "collapsed": false,
     "input": [
      "%%R \n",
      "\n",
      "library(Morphometrics)\n",
      "\n",
      "n.total = dim(dados_brutos_R)[1]\n",
      "fivesp_lm = lm(as.matrix(dados_brutos_R[,1:4])~dados_brutos_R[,5])\n",
      "fivesp_lm_total = lm(as.matrix(dados_brutos_R[,1:4])~1)\n",
      "\n",
      "SSCP.W = t(fivesp_lm$residuals)%*%fivesp_lm$residuals\n",
      "SSCP.T = t(fivesp_lm_total$residuals)%*%fivesp_lm_total$residuals\n",
      "SSCP.B = SSCP.T - SSCP.W\n",
      "b_matrix = SSCP.B/n.total\n",
      "w_matrix = CalculateMatrix(fivesp_lm)\n",
      "t_matrix = CalculateMatrix(fivesp_lm_total)"
     ],
     "language": "python",
     "metadata": {},
     "outputs": [
      {
       "metadata": {},
       "output_type": "display_data",
       "text": [
        "Loading required package: plyr\n"
       ]
      }
     ],
     "prompt_number": 92
    },
    {
     "cell_type": "code",
     "collapsed": false,
     "input": [
      "%Rpull b_matrix w_matrix t_matrix"
     ],
     "language": "python",
     "metadata": {},
     "outputs": [],
     "prompt_number": 93
    },
    {
     "cell_type": "markdown",
     "metadata": {},
     "source": [
      "##Morphometrics\n",
      "\n",
      "Passando as matrizes pro R para uso do pacote Morphometrics"
     ]
    },
    {
     "cell_type": "code",
     "collapsed": false,
     "input": [
      "cov_matrices_R = com.convert_to_r_dataframe(cov_matrices)\n",
      "cor_matrices_R = com.convert_to_r_dataframe(cor_matrices)\n",
      "%Rpush cov_matrices_R cor_matrices_R especies_labels"
     ],
     "language": "python",
     "metadata": {},
     "outputs": [],
     "prompt_number": 94
    },
    {
     "cell_type": "code",
     "collapsed": false,
     "input": [
      "%%R\n",
      "library(Morphometrics)\n",
      "\n",
      "especies <- unlist(especies_labels)\n",
      "cov_matrices_R['ESPECIE'] <- cor_matrices_R['ESPECIE'] <- rep(especies, each = 4)\n",
      "cov_matrices <- dlply(cov_matrices_R, .variables='ESPECIE', function(x) as.matrix(x[1:4]))\n",
      "cor_matrices <- dlply(cor_matrices_R, .variables='ESPECIE', function(x) as.matrix(x[1:4]))\n",
      "print(cov_matrices)"
     ],
     "language": "python",
     "metadata": {},
     "outputs": [
      {
       "metadata": {},
       "output_type": "display_data",
       "text": [
        "$A\n",
        "         UMERO      ULNA     FEMUR     TIBIA\n",
        "[1,] 0.8564279 0.7757185 0.2162784 0.2754821\n",
        "[2,] 0.7757185 1.0863048 0.3172945 0.3577048\n",
        "[3,] 0.2162784 0.3172945 1.0039593 0.7962791\n",
        "[4,] 0.2754821 0.3577048 0.7962791 1.0678113\n",
        "\n",
        "$B\n",
        "         UMERO       ULNA      FEMUR     TIBIA\n",
        "[1,] 1.0890625 0.44145759 0.17321563 0.1971403\n",
        "[2,] 0.4414576 0.95318347 0.03739387 0.1376643\n",
        "[3,] 0.1732156 0.03739387 0.92121709 0.6792800\n",
        "[4,] 0.1971403 0.13766425 0.67928003 1.0532711\n",
        "\n",
        "$C\n",
        "          UMERO       ULNA      FEMUR     TIBIA\n",
        "[1,] 0.98569270 0.75790946 0.01627433 0.3289341\n",
        "[2,] 0.75790946 0.93666780 0.08537023 0.3363819\n",
        "[3,] 0.01627433 0.08537023 1.19527238 0.1735237\n",
        "[4,] 0.32893410 0.33638186 0.17352372 0.9117107\n",
        "\n",
        "$D\n",
        "         UMERO      ULNA     FEMUR     TIBIA\n",
        "[1,] 0.9946989 0.7761668 0.5626162 0.5584096\n",
        "[2,] 0.7761668 0.9981447 0.7903109 0.6367767\n",
        "[3,] 0.5626162 0.7903109 1.1932873 0.6057237\n",
        "[4,] 0.5584096 0.6367767 0.6057237 0.9119679\n",
        "\n",
        "$E\n",
        "           UMERO        ULNA      FEMUR     TIBIA\n",
        "[1,]  0.96983460 -0.09642127 0.02096006 0.3606990\n",
        "[2,] -0.09642127  0.64114545 0.01036461 0.1279602\n",
        "[3,]  0.02096006  0.01036461 0.91131380 0.2485472\n",
        "[4,]  0.36069899  0.12796018 0.24854724 1.0041185\n",
        "\n",
        "attr(,\"split_type\")\n",
        "[1] \"data.frame\"\n",
        "attr(,\"split_labels\")\n",
        "  ESPECIE\n",
        "1       A\n",
        "2       B\n",
        "3       C\n",
        "4       D\n",
        "5       E\n"
       ]
      }
     ],
     "prompt_number": 95
    },
    {
     "cell_type": "code",
     "collapsed": false,
     "input": [
      "%%R\n",
      "reps <- laply(cov_matrices, MonteCarloRepRandomSkewers, 100)\n",
      "print(reps)"
     ],
     "language": "python",
     "metadata": {},
     "outputs": [
      {
       "metadata": {},
       "output_type": "display_data",
       "text": [
        "        A         B         C         D         E \n",
        "0.9911833 0.9887216 0.9889167 0.9914653 0.9865663 \n"
       ]
      }
     ],
     "prompt_number": 96
    },
    {
     "cell_type": "code",
     "collapsed": false,
     "input": [
      "%%R \n",
      "RS <- RandomSkewers(cov_matrices, repeat.vector = reps)\n",
      "print(RS)"
     ],
     "language": "python",
     "metadata": {},
     "outputs": [
      {
       "metadata": {},
       "output_type": "display_data",
       "text": [
        "Using correlation as value column: use value.var to override.\n",
        "Using probability as value column: use value.var to override.\n",
        "$correlations\n",
        "          A         B         C         D         E\n",
        "A 0.9911833 0.9621876 0.9270031 0.9240337 0.7978603\n",
        "B 0.9525192 0.9887216 0.9161431 0.8650797 0.9041592\n",
        "C 0.9177789 0.9058998 0.9889167 0.9082606 0.8618712\n",
        "D 0.9160170 0.8565089 0.8993507 0.9914653 0.7796510\n",
        "E 0.7889818 0.8929868 0.8513053 0.7710848 0.9865663\n",
        "\n",
        "$probabilities\n",
        "      A     B     C     D E\n",
        "A 0.000 0.000 0.000 0.000 0\n",
        "B 0.009 0.000 0.000 0.000 0\n",
        "C 0.014 0.019 0.000 0.000 0\n",
        "D 0.013 0.021 0.016 0.000 0\n",
        "E 0.068 0.024 0.035 0.068 0\n",
        "\n"
       ]
      }
     ],
     "prompt_number": 97
    },
    {
     "cell_type": "markdown",
     "metadata": {},
     "source": [
      "##Filogenia\n",
      "\n",
      "Vamos incluir uma filogenia e calcular estados ancestrais"
     ]
    },
    {
     "cell_type": "code",
     "collapsed": false,
     "input": [
      "tree = dp.Tree.get_from_string(\"root(E, CBAD(CB(C, B),AD(A,D)))\", \"newick\")\n",
      "tree.print_plot(display_width = 50, show_internal_node_labels = True, leaf_spacing_factor = 4)"
     ],
     "language": "python",
     "metadata": {},
     "outputs": [
      {
       "output_type": "stream",
       "stream": "stdout",
       "text": [
        "/----------------------------------------------- E\n",
        "|                                                 \n",
        "|                                                 \n",
        "|                                                 \n",
        "|                               /--------------- C\n",
        "root                            |                 \n",
        "|               /---------------CB                \n",
        "|               |               |                 \n",
        "|               |               \\--------------- B\n",
        "|               |                                 \n",
        "\\---------------CBAD                              \n",
        "                |                                 \n",
        "                |               /--------------- A\n",
        "                |               |                 \n",
        "                \\---------------AD                \n",
        "                                |                 \n",
        "                                \\--------------- D\n",
        "                                                  \n",
        "                                                  \n",
        "                                                  \n",
        "                                                  \n"
       ]
      }
     ],
     "prompt_number": 99
    },
    {
     "cell_type": "markdown",
     "metadata": {},
     "source": [
      "Esse c\u00f3digo usa as matrizes e m\u00e9dias calculadas anteriormente, junto com os tamanhos amostrais, para calcular valores ponderados para todos os n\u00f3s da filogenia. \n",
      "\n",
      "A conta realizada para m\u00e9dias e matrizes \u00e9 uma simples m\u00e9dia ponderada."
     ]
    },
    {
     "cell_type": "code",
     "collapsed": false,
     "input": [
      "get_node_name = lambda n: str(n.label or n.taxon or None)\n",
      "nodes = [get_node_name(n) for n in tree.nodes()]\n",
      "\n",
      "node_matrices = {}\n",
      "node_sample_size = {}\n",
      "for sp in especies_labels:\n",
      "    new_matrix = np.array(cov_matrices.T[sp])\n",
      "    node_matrices[sp] = new_matrix\n",
      "    node_sample_size[sp] = dados_brutos[dados_brutos['ESPECIE'] == sp].shape[0]\n",
      "\n",
      "# Tirando quem nao esta na filogenia e trocando os keys\n",
      "\n",
      "node_means = {}\n",
      "\n",
      "for sp in especies_labels:\n",
      "    if tree.find_node_with_taxon_label(sp):\n",
      "        new_key = get_node_name(tree.find_node_with_taxon_label(sp))\n",
      "        node_means[new_key] = medias.T[sp]\n",
      "        node_sample_size[new_key] = node_sample_size.pop(sp)\n",
      "        node_matrices[new_key] = node_matrices.pop(sp)\n",
      "    else:\n",
      "        node_matrices.pop(sp)\n",
      "        node_sample_size.pop(sp)\n",
      "\n",
      "# Fun\u00e7\u00e3o que recebe uma lista de filhos e calcula a matriz, m\u00e9dia e tamanho amostral pro ancestral\n",
      "\n",
      "def ancestral_mean(child_labels):\n",
      "    new_matrix = np.zeros((num_traits, num_traits))\n",
      "    sample = 0\n",
      "    new_mean = np.zeros(num_traits)\n",
      "    for child in child_labels:\n",
      "        new_matrix = new_matrix +\\\n",
      "            node_sample_size[get_node_name(child)] * node_matrices[get_node_name(child)]\n",
      "        sample = sample + node_sample_size[get_node_name(child)]\n",
      "        new_mean = new_mean + node_means[get_node_name(child)]\n",
      "    new_matrix = new_matrix/sample\n",
      "    new_mean = new_mean/len(child_labels)\n",
      "    return new_matrix, sample, new_mean\n",
      "\n",
      "# Calculando as matrizes e tamanhos amostrais para todos os n\u00f3s\n",
      "\n",
      "for n in tree.postorder_node_iter():\n",
      "    if get_node_name(n) not in node_matrices:\n",
      "        node_matrices[get_node_name(n)], node_sample_size[get_node_name(n)], node_means[get_node_name(n)] = ancestral_mean(n.child_nodes())"
     ],
     "language": "python",
     "metadata": {},
     "outputs": [],
     "prompt_number": 100
    },
    {
     "cell_type": "markdown",
     "metadata": {},
     "source": [
      "Isso resulta num dicion\u00e1rio, chamado node_matrices, com todas as matrizes para todos os n\u00f3s."
     ]
    },
    {
     "cell_type": "code",
     "collapsed": false,
     "input": [
      "node_matrices"
     ],
     "language": "python",
     "metadata": {},
     "outputs": [
      {
       "metadata": {},
       "output_type": "pyout",
       "prompt_number": 101,
       "text": [
        "{'A': array([[ 0.8564279 ,  0.77571855,  0.21627841,  0.27548205],\n",
        "        [ 0.77571855,  1.08630478,  0.31729452,  0.35770483],\n",
        "        [ 0.21627841,  0.31729452,  1.0039593 ,  0.79627907],\n",
        "        [ 0.27548205,  0.35770483,  0.79627907,  1.06781131]]),\n",
        " 'AD': array([[ 0.92556338,  0.77594269,  0.38944731,  0.4169458 ],\n",
        "        [ 0.77594269,  1.04222473,  0.55380272,  0.49724078],\n",
        "        [ 0.38944731,  0.55380272,  1.0986233 ,  0.70100138],\n",
        "        [ 0.4169458 ,  0.49724078,  0.70100138,  0.98988962]]),\n",
        " 'B': array([[ 1.08906246,  0.44145759,  0.17321563,  0.19714026],\n",
        "        [ 0.44145759,  0.95318347,  0.03739387,  0.13766425],\n",
        "        [ 0.17321563,  0.03739387,  0.92121709,  0.67928003],\n",
        "        [ 0.19714026,  0.13766425,  0.67928003,  1.05327109]]),\n",
        " 'C': array([[ 0.9856927 ,  0.75790946,  0.01627433,  0.3289341 ],\n",
        "        [ 0.75790946,  0.9366678 ,  0.08537023,  0.33638186],\n",
        "        [ 0.01627433,  0.08537023,  1.19527238,  0.17352372],\n",
        "        [ 0.3289341 ,  0.33638186,  0.17352372,  0.91171074]]),\n",
        " 'CB': array([[ 1.03737758,  0.59968352,  0.09474498,  0.26303718],\n",
        "        [ 0.59968352,  0.94492564,  0.06138205,  0.23702306],\n",
        "        [ 0.09474498,  0.06138205,  1.05824473,  0.42640187],\n",
        "        [ 0.26303718,  0.23702306,  0.42640187,  0.98249091]]),\n",
        " 'CBAD': array([[ 0.98147048,  0.68781311,  0.24209615,  0.33999149],\n",
        "        [ 0.68781311,  0.99357518,  0.30759238,  0.36713192],\n",
        "        [ 0.24209615,  0.30759238,  1.07843402,  0.56370163],\n",
        "        [ 0.33999149,  0.36713192,  0.56370163,  0.98619027]]),\n",
        " 'D': array([[ 0.99469886,  0.77616684,  0.56261621,  0.55840955],\n",
        "        [ 0.77616684,  0.99814468,  0.79031092,  0.63677673],\n",
        "        [ 0.56261621,  0.79031092,  1.1932873 ,  0.60572369],\n",
        "        [ 0.55840955,  0.63677673,  0.60572369,  0.91196794]]),\n",
        " 'E': array([[ 0.9698346 , -0.09642127,  0.02096006,  0.36069899],\n",
        "        [-0.09642127,  0.64114545,  0.01036461,  0.12796018],\n",
        "        [ 0.02096006,  0.01036461,  0.9113138 ,  0.24854724],\n",
        "        [ 0.36069899,  0.12796018,  0.24854724,  1.00411854]]),\n",
        " 'root': array([[ 0.97914331,  0.53096623,  0.19786893,  0.34413299],\n",
        "        [ 0.53096623,  0.92308924,  0.24814683,  0.31929757],\n",
        "        [ 0.19786893,  0.24814683,  1.04500997,  0.50067075],\n",
        "        [ 0.34413299,  0.31929757,  0.50067075,  0.98977592]])}"
       ]
      }
     ],
     "prompt_number": 101
    },
    {
     "cell_type": "markdown",
     "metadata": {},
     "source": [
      "Um dicion\u00e1rio de tamanhos amostrais"
     ]
    },
    {
     "cell_type": "code",
     "collapsed": false,
     "input": [
      "node_sample_size"
     ],
     "language": "python",
     "metadata": {},
     "outputs": [
      {
       "ename": "NameError",
       "evalue": "name 'node_sample_size' is not defined",
       "output_type": "pyerr",
       "traceback": [
        "\u001b[1;31m---------------------------------------------------------------------------\u001b[0m\n\u001b[1;31mNameError\u001b[0m                                 Traceback (most recent call last)",
        "\u001b[1;32m<ipython-input-62-69b17ef2bad6>\u001b[0m in \u001b[0;36m<module>\u001b[1;34m()\u001b[0m\n\u001b[1;32m----> 1\u001b[1;33m \u001b[0mnode_sample_size\u001b[0m\u001b[1;33m\u001b[0m\u001b[0m\n\u001b[0m",
        "\u001b[1;31mNameError\u001b[0m: name 'node_sample_size' is not defined"
       ]
      }
     ],
     "prompt_number": 62
    },
    {
     "cell_type": "markdown",
     "metadata": {},
     "source": [
      "E um dicion\u00e1rio de m\u00e9dias."
     ]
    },
    {
     "cell_type": "code",
     "collapsed": false,
     "input": [
      "node_means['AD']"
     ],
     "language": "python",
     "metadata": {},
     "outputs": [
      {
       "ename": "NameError",
       "evalue": "name 'node_means' is not defined",
       "output_type": "pyerr",
       "traceback": [
        "\u001b[1;31m---------------------------------------------------------------------------\u001b[0m\n\u001b[1;31mNameError\u001b[0m                                 Traceback (most recent call last)",
        "\u001b[1;32m<ipython-input-63-b12caa7aee83>\u001b[0m in \u001b[0;36m<module>\u001b[1;34m()\u001b[0m\n\u001b[1;32m----> 1\u001b[1;33m \u001b[0mnode_means\u001b[0m\u001b[1;33m[\u001b[0m\u001b[1;34m'AD'\u001b[0m\u001b[1;33m]\u001b[0m\u001b[1;33m\u001b[0m\u001b[0m\n\u001b[0m",
        "\u001b[1;31mNameError\u001b[0m: name 'node_means' is not defined"
       ]
      }
     ],
     "prompt_number": 63
    },
    {
     "cell_type": "markdown",
     "metadata": {},
     "source": [
      "Temos tb uma lista de todos os n\u00f3s:"
     ]
    },
    {
     "cell_type": "code",
     "collapsed": false,
     "input": [
      "nodes"
     ],
     "language": "python",
     "metadata": {},
     "outputs": [
      {
       "ename": "NameError",
       "evalue": "name 'nodes' is not defined",
       "output_type": "pyerr",
       "traceback": [
        "\u001b[1;31m---------------------------------------------------------------------------\u001b[0m\n\u001b[1;31mNameError\u001b[0m                                 Traceback (most recent call last)",
        "\u001b[1;32m<ipython-input-64-d0d476327465>\u001b[0m in \u001b[0;36m<module>\u001b[1;34m()\u001b[0m\n\u001b[1;32m----> 1\u001b[1;33m \u001b[0mnodes\u001b[0m\u001b[1;33m\u001b[0m\u001b[0m\n\u001b[0m",
        "\u001b[1;31mNameError\u001b[0m: name 'nodes' is not defined"
       ]
      }
     ],
     "prompt_number": 64
    },
    {
     "cell_type": "markdown",
     "metadata": {},
     "source": [
      "\u00c9 interessante notar como a matriz estimada para a raiz, ponderando as matrizes ao longo da filogenia, \u00e9 id\u00eantica \u00e0 matriz ponderada dentro de grupos, calculada pelos modelos lineares anteriormente:"
     ]
    },
    {
     "cell_type": "code",
     "collapsed": false,
     "input": [
      "w_matrix"
     ],
     "language": "python",
     "metadata": {},
     "outputs": [
      {
       "ename": "NameError",
       "evalue": "name 'w_matrix' is not defined",
       "output_type": "pyerr",
       "traceback": [
        "\u001b[1;31m---------------------------------------------------------------------------\u001b[0m\n\u001b[1;31mNameError\u001b[0m                                 Traceback (most recent call last)",
        "\u001b[1;32m<ipython-input-65-dccbe7669f95>\u001b[0m in \u001b[0;36m<module>\u001b[1;34m()\u001b[0m\n\u001b[1;32m----> 1\u001b[1;33m \u001b[0mw_matrix\u001b[0m\u001b[1;33m\u001b[0m\u001b[0m\n\u001b[0m",
        "\u001b[1;31mNameError\u001b[0m: name 'w_matrix' is not defined"
       ]
      }
     ],
     "prompt_number": 65
    },
    {
     "cell_type": "code",
     "collapsed": false,
     "input": [
      "node_matrices['root']"
     ],
     "language": "python",
     "metadata": {},
     "outputs": [
      {
       "ename": "NameError",
       "evalue": "name 'node_matrices' is not defined",
       "output_type": "pyerr",
       "traceback": [
        "\u001b[1;31m---------------------------------------------------------------------------\u001b[0m\n\u001b[1;31mNameError\u001b[0m                                 Traceback (most recent call last)",
        "\u001b[1;32m<ipython-input-66-d3cbfe2c6779>\u001b[0m in \u001b[0;36m<module>\u001b[1;34m()\u001b[0m\n\u001b[1;32m----> 1\u001b[1;33m \u001b[0mnode_matrices\u001b[0m\u001b[1;33m[\u001b[0m\u001b[1;34m'root'\u001b[0m\u001b[1;33m]\u001b[0m\u001b[1;33m\u001b[0m\u001b[0m\n\u001b[0m",
        "\u001b[1;31mNameError\u001b[0m: name 'node_matrices' is not defined"
       ]
      }
     ],
     "prompt_number": 66
    },
    {
     "cell_type": "markdown",
     "metadata": {},
     "source": [
      "### $\\beta$ e $\\Delta z$\n",
      "\n",
      "Vamos agora estimar as mudan\u00e7as evolutivas em cada ramo da filogenia, e, usando as matrizes ancestrais, calcular os gradientes de sele\u00e7\u00e3o estimados.\n",
      "\n",
      "Os $\\Delta z$ s\u00e3o apenas as diferen\u00e7as nas m\u00e9dias de um n\u00f3 com o seu acestral. Os $\\beta$ s\u00e3o estimados com a equa\u00e7\u00e3o de Lande:\n",
      "\n",
      "$\n",
      "\\beta = G^{-1}\\Delta z\n",
      "$"
     ]
    },
    {
     "cell_type": "code",
     "collapsed": false,
     "input": [
      "delta_z = {}\n",
      "beta = {}\n",
      "for n in tree.nodes()[1:]: #come\u00e7amos do 1 para pular a raiz, que n\u00e3o tem ancestral\n",
      "    parent = get_node_name(n.parent_node)\n",
      "    branch = get_node_name(n) + '_' + parent\n",
      "    delta_z[branch] = node_means[get_node_name(n)] - node_means[parent]\n",
      "    beta[branch] = np.linalg.solve(node_matrices[parent], delta_z[branch])"
     ],
     "language": "python",
     "metadata": {},
     "outputs": [
      {
       "ename": "NameError",
       "evalue": "name 'tree' is not defined",
       "output_type": "pyerr",
       "traceback": [
        "\u001b[1;31m---------------------------------------------------------------------------\u001b[0m\n\u001b[1;31mNameError\u001b[0m                                 Traceback (most recent call last)",
        "\u001b[1;32m<ipython-input-67-b2d595957f0e>\u001b[0m in \u001b[0;36m<module>\u001b[1;34m()\u001b[0m\n\u001b[0;32m      1\u001b[0m \u001b[0mdelta_z\u001b[0m \u001b[1;33m=\u001b[0m \u001b[1;33m{\u001b[0m\u001b[1;33m}\u001b[0m\u001b[1;33m\u001b[0m\u001b[0m\n\u001b[0;32m      2\u001b[0m \u001b[0mbeta\u001b[0m \u001b[1;33m=\u001b[0m \u001b[1;33m{\u001b[0m\u001b[1;33m}\u001b[0m\u001b[1;33m\u001b[0m\u001b[0m\n\u001b[1;32m----> 3\u001b[1;33m \u001b[1;32mfor\u001b[0m \u001b[0mn\u001b[0m \u001b[1;32min\u001b[0m \u001b[0mtree\u001b[0m\u001b[1;33m.\u001b[0m\u001b[0mnodes\u001b[0m\u001b[1;33m(\u001b[0m\u001b[1;33m)\u001b[0m\u001b[1;33m[\u001b[0m\u001b[1;36m1\u001b[0m\u001b[1;33m:\u001b[0m\u001b[1;33m]\u001b[0m\u001b[1;33m:\u001b[0m \u001b[1;31m#come\u00e7amos do 1 para pular a raiz, que n\u00e3o tem ancestral\u001b[0m\u001b[1;33m\u001b[0m\u001b[0m\n\u001b[0m\u001b[0;32m      4\u001b[0m     \u001b[0mparent\u001b[0m \u001b[1;33m=\u001b[0m \u001b[0mget_node_name\u001b[0m\u001b[1;33m(\u001b[0m\u001b[0mn\u001b[0m\u001b[1;33m.\u001b[0m\u001b[0mparent_node\u001b[0m\u001b[1;33m)\u001b[0m\u001b[1;33m\u001b[0m\u001b[0m\n\u001b[0;32m      5\u001b[0m     \u001b[0mbranch\u001b[0m \u001b[1;33m=\u001b[0m \u001b[0mget_node_name\u001b[0m\u001b[1;33m(\u001b[0m\u001b[0mn\u001b[0m\u001b[1;33m)\u001b[0m \u001b[1;33m+\u001b[0m \u001b[1;34m'_'\u001b[0m \u001b[1;33m+\u001b[0m \u001b[0mparent\u001b[0m\u001b[1;33m\u001b[0m\u001b[0m\n",
        "\u001b[1;31mNameError\u001b[0m: name 'tree' is not defined"
       ]
      }
     ],
     "prompt_number": 67
    },
    {
     "cell_type": "code",
     "collapsed": false,
     "input": [
      "delta_z"
     ],
     "language": "python",
     "metadata": {},
     "outputs": [
      {
       "metadata": {},
       "output_type": "pyout",
       "prompt_number": 68,
       "text": [
        "{}"
       ]
      }
     ],
     "prompt_number": 68
    },
    {
     "cell_type": "code",
     "collapsed": false,
     "input": [
      "beta"
     ],
     "language": "python",
     "metadata": {},
     "outputs": [
      {
       "metadata": {},
       "output_type": "pyout",
       "prompt_number": 69,
       "text": [
        "{}"
       ]
      }
     ],
     "prompt_number": 69
    },
    {
     "cell_type": "markdown",
     "metadata": {},
     "source": [
      "Podemos agora calcular a correla\u00e7\u00e3o entre os $\\beta$ e $\\Delta z$"
     ]
    },
    {
     "cell_type": "code",
     "collapsed": false,
     "input": [
      "def vector_corr(x, y): return (np.dot(x, y)/(np.linalg.norm(x)*np.linalg.norm(y)))\n",
      "corr_beta_delta_z = {}\n",
      "for branch in delta_z:\n",
      "    corr_beta_delta_z[branch] = vector_corr(beta[branch], delta_z[branch])"
     ],
     "language": "python",
     "metadata": {},
     "outputs": [],
     "prompt_number": 70
    },
    {
     "cell_type": "code",
     "collapsed": false,
     "input": [
      "corr_beta_delta_z"
     ],
     "language": "python",
     "metadata": {},
     "outputs": [
      {
       "metadata": {},
       "output_type": "pyout",
       "prompt_number": 71,
       "text": [
        "{}"
       ]
      }
     ],
     "prompt_number": 71
    },
    {
     "cell_type": "markdown",
     "metadata": {},
     "source": [
      "Podemos tamb\u00e9m calcular a rela\u00e7\u00e3o entre a resposta evolutiva e o primeiro componente principal da matriz de covaria\u00e7\u00e3o, a linha de menor resist\u00eancia evolutiva. \n",
      "\n",
      "Como a dire\u00e7\u00e3o primeiro componente \u00e9 arbitr\u00e1ria, tomamos o valor absoluto da correla\u00e7\u00e3o."
     ]
    },
    {
     "cell_type": "code",
     "collapsed": false,
     "input": [
      "corr_pc1 = {}\n",
      "for branch in delta_z:\n",
      "    parent = branch.split(\"_\")[1]\n",
      "    pc1 = np.linalg.eig(node_matrices[parent])[1][:,0]\n",
      "    corr_pc1[branch] = abs(vector_corr(delta_z[branch], pc1))"
     ],
     "language": "python",
     "metadata": {},
     "outputs": [],
     "prompt_number": 72
    },
    {
     "cell_type": "code",
     "collapsed": false,
     "input": [
      "corr_pc1"
     ],
     "language": "python",
     "metadata": {},
     "outputs": [
      {
       "metadata": {},
       "output_type": "pyout",
       "prompt_number": 73,
       "text": [
        "{}"
       ]
      }
     ],
     "prompt_number": 73
    },
    {
     "cell_type": "markdown",
     "metadata": {},
     "source": [
      "Podemos utilizar o pandas para formatar esses resultados em tabelas"
     ]
    },
    {
     "cell_type": "code",
     "collapsed": false,
     "input": [
      "df_betas = pd.DataFrame.from_dict(beta, orient='index')\n",
      "df_betas.columns = traits\n",
      "df_betas"
     ],
     "language": "python",
     "metadata": {},
     "outputs": [
      {
       "ename": "NameError",
       "evalue": "name 'pd' is not defined",
       "output_type": "pyerr",
       "traceback": [
        "\u001b[1;31m---------------------------------------------------------------------------\u001b[0m\n\u001b[1;31mNameError\u001b[0m                                 Traceback (most recent call last)",
        "\u001b[1;32m<ipython-input-74-c8a51f133f67>\u001b[0m in \u001b[0;36m<module>\u001b[1;34m()\u001b[0m\n\u001b[1;32m----> 1\u001b[1;33m \u001b[0mdf_betas\u001b[0m \u001b[1;33m=\u001b[0m \u001b[0mpd\u001b[0m\u001b[1;33m.\u001b[0m\u001b[0mDataFrame\u001b[0m\u001b[1;33m.\u001b[0m\u001b[0mfrom_dict\u001b[0m\u001b[1;33m(\u001b[0m\u001b[0mbeta\u001b[0m\u001b[1;33m,\u001b[0m \u001b[0morient\u001b[0m\u001b[1;33m=\u001b[0m\u001b[1;34m'index'\u001b[0m\u001b[1;33m)\u001b[0m\u001b[1;33m\u001b[0m\u001b[0m\n\u001b[0m\u001b[0;32m      2\u001b[0m \u001b[0mdf_betas\u001b[0m\u001b[1;33m.\u001b[0m\u001b[0mcolumns\u001b[0m \u001b[1;33m=\u001b[0m \u001b[0mtraits\u001b[0m\u001b[1;33m\u001b[0m\u001b[0m\n\u001b[0;32m      3\u001b[0m \u001b[0mdf_betas\u001b[0m\u001b[1;33m\u001b[0m\u001b[0m\n",
        "\u001b[1;31mNameError\u001b[0m: name 'pd' is not defined"
       ]
      }
     ],
     "prompt_number": 74
    },
    {
     "cell_type": "code",
     "collapsed": false,
     "input": [],
     "language": "python",
     "metadata": {},
     "outputs": [],
     "prompt_number": 74
    }
   ],
   "metadata": {}
  }
 ]
}